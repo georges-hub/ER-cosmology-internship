{
 "cells": [
  {
   "cell_type": "markdown",
   "id": "dc119983",
   "metadata": {},
   "source": [
    "                    Code for the cosmology of Entangled Relativity"
   ]
  },
  {
   "cell_type": "markdown",
   "id": "5276fc22",
   "metadata": {},
   "source": [
    "In this code we are going to determine the evolution of the universe in ER. In this theory the equation are given by:\\\n",
    "$ 3H^2 \\left(1+\\frac{\\phi_{,N}}{\\phi} \\right)=\\frac{\\bar{\\kappa}}{\\sqrt{\\phi}}\\rho+\\frac{V(\\phi)}{2\\phi}-3Ke^{-2N}$\\\n",
    "$HH_{,N}=-\\frac{\\bar{\\kappa}}{2\\sqrt{\\phi}}p-\\frac{3}{2}H^2+H^2\\frac{\\phi_{,N}}{2\\phi} +\\frac{V(\\phi)}{4\\phi}-\\frac{K}{2}e^{-2N}$\\\n",
    "$\\phi_{,NN}=-(3H+H_{,N})\\phi_{,N}\\frac{1}{H} \\iff \\phi_{,N}=\\phi_{0,N} \\frac{H_0}{H}e^{-3N}$\\\n",
    " \\\n",
    " Because we know the conditions today, we are going to use them and make the simulation by going backward.\n",
    "To \"stop\" the simulation here we are going to use the constraint on density, we read the value when $\\rho_{radiation}>0.1\\rho_{dust}$. \\\n",
    "Here to make the Klein-Gordon equation unsourced, otherwise it will implies a variation of $\\phi$ and of $G$, we are going to use a quadratic potential.\\\n",
    "$V(\\phi)=2\\lambda\\phi^2$\\\n",
    "We can determine both $\\kappa$ and $\\lambda$ to match with GR and recovers the cosmological constant."
   ]
  },
  {
   "cell_type": "code",
   "execution_count": null,
   "id": "868ed513",
   "metadata": {},
   "outputs": [],
   "source": []
  },
  {
   "cell_type": "markdown",
   "id": "8d39c61e",
   "metadata": {},
   "source": [
    "Libraries needed"
   ]
  },
  {
   "cell_type": "code",
   "execution_count": 281,
   "id": "4decc92d",
   "metadata": {},
   "outputs": [],
   "source": [
    "import numpy as np\n",
    "import matplotlib.pyplot as plt\n",
    "from scipy.integrate import solve_ivp"
   ]
  },
  {
   "cell_type": "code",
   "execution_count": null,
   "id": "2b480211",
   "metadata": {},
   "outputs": [],
   "source": []
  },
  {
   "cell_type": "markdown",
   "id": "063fa708",
   "metadata": {},
   "source": [
    "We are going to use a system of units where $\\mu=\\hbar=c=1$"
   ]
  },
  {
   "cell_type": "code",
   "execution_count": 282,
   "id": "3a82290d",
   "metadata": {},
   "outputs": [],
   "source": [
    "conversionkg=1/(1.78*10**(-27)) #GeV=1 Kg\n",
    "conversions=6.58*10**(-25)      #GeV=1s-1\n",
    "conversionm=1.97*10**(-16)      #GeV=1m-1"
   ]
  },
  {
   "cell_type": "markdown",
   "id": "f5004e8f",
   "metadata": {},
   "source": [
    "To convert s$\\rightarrow$yr"
   ]
  },
  {
   "cell_type": "code",
   "execution_count": 283,
   "id": "75c76bbf",
   "metadata": {},
   "outputs": [],
   "source": [
    "enl=0\n",
    "conversionstoyr=1/(60*60*24*365.25*10**(enl))"
   ]
  },
  {
   "cell_type": "code",
   "execution_count": 284,
   "id": "63169549",
   "metadata": {},
   "outputs": [],
   "source": [
    "conversionGeVm1toyr=conversions*conversionstoyr"
   ]
  },
  {
   "cell_type": "markdown",
   "id": "4b18a854",
   "metadata": {},
   "source": [
    "To convert $s^{-1}\\rightarrow$km/s/Mpc"
   ]
  },
  {
   "cell_type": "code",
   "execution_count": 285,
   "id": "fc38997c",
   "metadata": {},
   "outputs": [],
   "source": [
    "conversionH0tosm1=np.pi*10**(3)/(648000*149597870700*10**6)   # To convert H0 in the usual dimensions"
   ]
  },
  {
   "cell_type": "markdown",
   "id": "23173e04",
   "metadata": {},
   "source": [
    "Which value of $H_0$ do you want to use?\\\n",
    "s for supernovae\\\n",
    "c for CMB"
   ]
  },
  {
   "cell_type": "code",
   "execution_count": 286,
   "id": "be23b5fd",
   "metadata": {},
   "outputs": [],
   "source": [
    "HM=\"s\""
   ]
  },
  {
   "cell_type": "markdown",
   "id": "55474fc4",
   "metadata": {},
   "source": [
    "We determine the constant in the new system of units"
   ]
  },
  {
   "cell_type": "code",
   "execution_count": 287,
   "id": "8ec6cbe0",
   "metadata": {},
   "outputs": [],
   "source": [
    "#Constantes:\n",
    "G=(6.67428+0.00015)*10**(-11)*(conversions**2)/((conversionm**3)*conversionkg)    #pm 0.00015.10**-11\n",
    "kappa=np.sqrt(8*np.pi*G)   #GeV-1\n",
    "Lambda=1.1056*10**(-52)*(conversionm**2)\n",
    "if HM==\"c\":\n",
    "    H0=67.4*conversionH0tosm1*conversions     #pm 0.5    =[66.9,67.9]  67.4\n",
    "elif HM==\"s\":\n",
    "    H0=73.0*conversionH0tosm1*conversions       #pm 1.0  =[72.0,74.0]  73.0\n",
    "rhoc0=3*H0**2/(kappa**2)\n",
    "c=299792458\n",
    "a0=1"
   ]
  },
  {
   "cell_type": "code",
   "execution_count": 288,
   "id": "f2bc36bd",
   "metadata": {},
   "outputs": [
    {
     "name": "stdout",
     "output_type": "stream",
     "text": [
      "1.5566759238917063e-42\n"
     ]
    }
   ],
   "source": [
    "print(H0)"
   ]
  },
  {
   "cell_type": "markdown",
   "id": "345e7ceb",
   "metadata": {},
   "source": [
    "                Code we are going to use"
   ]
  },
  {
   "cell_type": "markdown",
   "id": "ef128a65",
   "metadata": {},
   "source": [
    "    In Entangled Relativity"
   ]
  },
  {
   "cell_type": "markdown",
   "id": "ffc33d95",
   "metadata": {},
   "source": [
    "Let's define some usual fonction :\\\n",
    "quadratic potential\\\n",
    "$\\rho(a)$ only for dust\\\n",
    "Solution of the Klein-Gordon equation."
   ]
  },
  {
   "cell_type": "code",
   "execution_count": 289,
   "id": "44fe07ba",
   "metadata": {},
   "outputs": [],
   "source": [
    "def V(phi,lambd):         # the potential\n",
    "    return(2*lambd*phi**2)"
   ]
  },
  {
   "cell_type": "code",
   "execution_count": 290,
   "id": "405694a4",
   "metadata": {},
   "outputs": [],
   "source": [
    "def rhoanda(rho0,a,w,a0):               # The usual fonction for the density\n",
    "    return(rho0*(a/a0)**((-3*(1+w))))\n",
    "\n",
    "def atophip(a,phip0,a0,H0,H):          # Expression of phip thanks to KG equations\n",
    "    return(phip0*(H0/H)*(a/a0)**(-3))\n",
    "\n",
    "def Ntophip(N,H,H0,phip0):              #Same but with N and not a\n",
    "    return(phip0*(H0/H)*np.exp(-3*N))\n",
    "\n",
    "def atoH(a,H0,phip0,phip):              #Solution of Klein-Gordon equation   \n",
    "    return((phip0*H0/phip)*(a/a0)**(-3))\n",
    "\n",
    "def NtoH(N,H0,phip0,phip):              #Same but with N and not a             \n",
    "    return((phip0*H0/phip)*np.exp(-3*N))"
   ]
  },
  {
   "cell_type": "markdown",
   "id": "fef4d79a",
   "metadata": {},
   "source": [
    "We can find the analytical solution for universe with only one components:\\\n",
    "$\\phi(N)=[\\phi_{0,N}\\phi_0^{\\frac{1}{2}(1-3w)}(1-e^{\\frac{3}{2}N(w-1)})+\\phi_0^{\\frac{3}{2}(1-w)}]^{\\frac{2}{3(1-w)}}$\\\n",
    "$H=H_0(\\frac{\\phi}{\\phi_0})^{\\frac{1}{2}(1-3w)}e^{-\\frac{3}{2}N(w+1)}$"
   ]
  },
  {
   "cell_type": "code",
   "execution_count": 291,
   "id": "a8b0fb73",
   "metadata": {},
   "outputs": [],
   "source": [
    "#With one components:\n",
    "\n",
    "def atophionec(phi0,phip0,a,a0,w):                #phi(a)\n",
    "    return((phip0*phi0**((1-3*w)/2)*(1-(a/a0)**(-3*(1-w)/2))+phi0**(3*(1-w)/2))**(2/(3*(1-w))))\n",
    "\n",
    "def Ntophionec(phi0,phip0,N,w):                   #phi(N)\n",
    "    return((phip0*phi0**((1-3*w)/2)*(1-np.exp(N*(-3*(1-w)/2)))+phi0**(3*(1-w)/2))**(2/(3*(1-w))))\n",
    "\n",
    "def atoHonec(H0,phi0,phip0,a,a0,w):               #H(a)\n",
    "    return(H0*atophionec(phi0,phip0,a,a0,w)**((1-3*w)/2)*(a/a0)**(-3*(1+w)/2))\n",
    "\n",
    "def atoHonecrad(H0,phi0,phip0,a,a0):               #H(a) for radiation\n",
    "    return(H0*(a/a0)**(-2))\n",
    "\n",
    "def NtoHonec(H0,phi0,phip0,N,w):                  #H(N)\n",
    "    return(H0*atophionec(phi0,phip0,a,a0,w)**((1-3*w)/2)*np.exp(-3*N*(1+w)/2))"
   ]
  },
  {
   "cell_type": "markdown",
   "id": "ccaaa5f3",
   "metadata": {},
   "source": [
    "Solution for a more complex universe with Ansatz method"
   ]
  },
  {
   "cell_type": "code",
   "execution_count": 292,
   "id": "0b97ea0f",
   "metadata": {},
   "outputs": [],
   "source": [
    "def aphitest(phi0,phip0,phipp0,rhom0,rhora0,wm,wra,lambd,H0,Hp0,an):     #phi(a)\n",
    "    rho=rhom0+rhora0\n",
    "    p=wm*rhom0+wra*rhora0\n",
    "    pp=-3*(wm*rhom0*(1+wm)+wra*rhora0*(1+wra))\n",
    "    A1=kappabar/2*(-pp/(np.sqrt(phi0*H0**2))+p/(phi0*H0**3)*(phip0*H0/(2*np.sqrt(phi0))+2*np.sqrt(phi0)*Hp0))\n",
    "    A2=(1/2)*(phipp0/phi0-(phip0/phi0)**2)\n",
    "    A3=(lambd/2)*(phip0/(H0**2)-2*Hp0*phi0/(H0**3))\n",
    "    print(A1,A2,A3)\n",
    "    A=-(A1+A2+A3)\n",
    "    B=phip0/phi0*(phipp0/phip0-phip0/phi0)\n",
    "    d=B/(B-A)\n",
    "    b=-3/2-lambd*phi0/(2*H0**2)+phip0/phi0*(1/d-3/2)\n",
    "    a=-phip0*phi0**(1/d-1)/(b*d)\n",
    "    c=phi0**(1/d)\n",
    "    #print(b*d)\n",
    "    #print(a,b,c,d)\n",
    "    return((a*(1-(an**b))+c)**d)"
   ]
  },
  {
   "cell_type": "markdown",
   "id": "eec83e04",
   "metadata": {},
   "source": [
    "                                    Set of equations"
   ]
  },
  {
   "cell_type": "markdown",
   "id": "ad1d6f68",
   "metadata": {},
   "source": [
    "We are going to use:\\\n",
    "$3H^2$(1+$\\frac{\\phi_{,N}}{\\phi}$)=$\\frac{\\kappa\\rho}{\\sqrt{\\phi}}$+$\\lambda\\phi$\\\n",
    "with:\\\n",
    "$\\phi_{,N}=\\phi_{0,N}(\\frac{H_0}{H})e^{-3N}$\\\n",
    "which gives us a quadratic equation to solve and gives the function of $H(\\phi)$\n",
    "\n",
    "We know the conservation of the stress-energy tensor gives us:\\\n",
    "For dust :\n",
    "$\\rho_{a}=\\rho_{0a} \\left(\\frac{a}{a_0} \\right)^{-3(1+w_a)}$\\\n",
    "For radiation : $\\rho_{rad}=\\rho_{0 rad} \\left(\\frac{a}{a_0} \\right)^{-3(1+w)} \\left(\\frac{\\phi}{\\phi_0} \\right)^{-\\frac{1}{2}}$\\\n",
    "To compute the solution so we only will use a solver of differential equation on $\\phi$. "
   ]
  },
  {
   "cell_type": "code",
   "execution_count": 293,
   "id": "4e471108",
   "metadata": {},
   "outputs": [],
   "source": [
    "def systemeBDN(n,Y,phi0,phip0,H0,rhom0,rhora0,kappabar,wm,wra,K,lambd):    #Set of equation if phi isn't constant (we can normalize)\n",
    "    phi=Y[0]             #scalar field\n",
    "    \n",
    "    xm=np.longdouble(-3*(1+wm)*n)\n",
    "    xra=np.longdouble(-3*(1+wra)*n)\n",
    "        \n",
    "    rhom=rhom0*np.exp(xm)          #Dust density\n",
    "    rhora=rhora0*np.sqrt(phi0/phi)*np.exp(xra)   #radiation density\n",
    "    \n",
    "    B=phip0*H0*np.exp(-3*n)/phi\n",
    "    C=kappabar*(rhom+rhora)/(3*np.sqrt(phi))+V(phi,lambd)/(6*phi)\n",
    "    delta=B*B+4*C\n",
    "    H=(-B+np.sqrt(delta))/2\n",
    "    \n",
    "    phip=phip0*(H0/H)*np.exp(-3*n)\n",
    "        \n",
    "    return([phip])"
   ]
  },
  {
   "cell_type": "code",
   "execution_count": null,
   "id": "b86dda66",
   "metadata": {},
   "outputs": [],
   "source": []
  },
  {
   "cell_type": "markdown",
   "id": "17191843",
   "metadata": {},
   "source": [
    "        Solve the system"
   ]
  },
  {
   "cell_type": "code",
   "execution_count": 294,
   "id": "987b1b83",
   "metadata": {},
   "outputs": [],
   "source": [
    "def solveBDN(phi0,H0ER,rhom0,rhora0,phip0,kappabar,wm,wra,Dn,K,lambd):\n",
    "    a0=np.exp(Dn[0])\n",
    "    if a0!=1:                        #Check if it start today\n",
    "        print(\"Doesn't start well.\")\n",
    "    N=10**(7-enl)                    #Number of points for the simulation\n",
    "    \n",
    "    efolds=np.linspace(Dn[0],Dn[1],N)  #Points use for the simulation\n",
    "    \n",
    "    solution = solve_ivp(systemeBDN, Dn, [phi0], method='Radau', t_eval=efolds, args=(phi0,phip0,H0,rhom0,rhora0,kappabar,wm,wra,K,lambd),rtol=5*10**-12)  #Resolution of the set\n",
    "    if solution.success== False:       #Has the code run well:\n",
    "        print(solution)\n",
    "    return(solution)"
   ]
  },
  {
   "cell_type": "markdown",
   "id": "d6d8ed8b",
   "metadata": {},
   "source": [
    "                To plot"
   ]
  },
  {
   "cell_type": "markdown",
   "id": "4724ecbd",
   "metadata": {},
   "source": [
    "The set of equations we use is:\\\n",
    "$ 3H^2 \\left(1+\\frac{\\phi_{,N}}{\\phi} \\right)=\\frac{\\bar{\\kappa}}{\\sqrt{\\phi}}\\rho+\\frac{V(\\phi)}{2\\phi}-3Ke^{-2N}$\\\n",
    "$HH_{,N}=-\\frac{\\bar{\\kappa}}{2\\sqrt{\\phi}}p-\\frac{3}{2}H^2+H^2\\frac{\\phi_{,N}}{2\\phi} +\\frac{V(\\phi)}{4\\phi}-\\frac{K}{2}e^{-2N}$\\\n",
    "$\\phi_{,NN}=-(3H+H_{,N})\\phi_{,N}\\frac{1}{H}$\\\n",
    "$\\frac{\\dot{G}_{eff}}{G_{eff}}=-\\frac{1}{2}\\frac{\\dot{\\phi}_0}{\\phi_0}$"
   ]
  },
  {
   "cell_type": "code",
   "execution_count": 295,
   "id": "0b96ed8b",
   "metadata": {},
   "outputs": [],
   "source": [
    "def plotBDN(solution,phi0,rhom0,rhora0,phip0,kappabar,wm,wra,Dn,K,lambd,H0,X):\n",
    "    Y=solution.y          \n",
    "    N=solution.t                   \n",
    "    A=np.exp(N)\n",
    " \n",
    "    Al=False      #If X=\"A\", we plot everything\n",
    "    if X==\"A\":\n",
    "        Al=True\n",
    "    H0ob=H0\n",
    "    \n",
    "    phi=Y[0]        #scalar field\n",
    "    \n",
    "    rhom=rhom0*np.exp(-3*(1+wm)*N)                        #Dust density\n",
    "    rhora=rhora0*np.sqrt(phi0/phi)*np.exp(-3*(1+wra)*N)   #radiation density\n",
    "    \n",
    "    p=wm*rhom+wra*rhora                #total pressure\n",
    "    \n",
    "    H0er=np.sqrt((kappabar*(rhom0+rhora0)/(3*np.sqrt(phi0))+V(phi0,lambd)/(6*phi0))/(1+phip0/phi0))   #Hubble parameter in ER today\n",
    "        \n",
    "    B=phip0*H0er*np.exp(-3*N)/phi\n",
    "    C=kappabar*(rhom+rhora)/(3*np.sqrt(phi))+V(phi,lambd)/(6*phi) \n",
    "    delta=B*B+4*C\n",
    "    H=(-B+np.sqrt(delta))/2            #Hubble parameter in ER\n",
    "    \n",
    "    phip=phip0*(H0er/H)*np.exp(-3*N)     #Derivative of phi in respect of the number of e-folds\n",
    "\n",
    "    H0ER=H[0]        #The value of H today in this theory (=H0)\n",
    "    \n",
    "    print(\"The value of H0 (ob) is \"+str(H0ob/conversions/conversionH0tosm1)+\" km/s/Mpc\")   #The value which is obseved\n",
    "    print(\"The value of H0 (ER) is \"+str(H0ER/conversions/conversionH0tosm1)+\" km/s/Mpc\")\n",
    "    \n",
    "    Hp=-kappabar*p/(2*np.sqrt(phi))-3*H/2+H*phip/(2*phi)+V(phi,lambd)/(4*H*phi)  #The derivative of H in respect of the number of e-folds\n",
    "    \n",
    "    phipp=-3*phip-Hp*phip/H       #The seconde derivative of the scalar field\n",
    "        \n",
    "    rhopot=lambd*phi**(3/2)/kappabar      #the density of the potential\n",
    "    \n",
    "    rhoc=3*H**2*np.sqrt(phi)*(1+phip/phi)/kappabar    #Critical density\n",
    "    omegam=rhom/rhoc          #dust omega\n",
    "    omegara=rhora/rhoc        #radiation omega\n",
    "    omegapot=rhopot/rhoc      #potential omega\n",
    "    \n",
    "    varG=-1/2*phip/phi     #Relative variation of Geff\n",
    "    \n",
    "                    #Limit condition\n",
    "    \n",
    "    limat=True\n",
    "    lim=0\n",
    "    for i in range(len(rhom)):\n",
    "        if rhora[i]>=0.1*rhom[i] and limat==True:    #We are looking for the first time that rhoradiation>0.1rhodust, and get the index\n",
    "            lim=N[i]\n",
    "            limat=False\n",
    "            print(lim)\n",
    "            \n",
    "            \n",
    "                    #For all the plot\n",
    "    \n",
    "    if X==\"H\" or Al:\n",
    "        plt.plot(A,H/conversions/conversionH0tosm1,alpha=0.5,color=\"b\",label=\"Solution\") \n",
    "        if phip0!=0:     #If the derivative isn't 0, we plot the Klein-Gordon solution\n",
    "            plt.plot(A,atoH(A,H0ER/conversions/conversionH0tosm1,phip0,phip),\"--\",color=\"r\",label=\"Formula with phip\")   \n",
    "        #Case of one components\n",
    "        if rhom0+rhora0==0 and lambd!=0 :   #universe with only a potential\n",
    "            plt.plot(A,atoHonec(H0ER/conversions/conversionH0tosm1,phi0,phip0,A,A[0],-1),alpha=0.5,color=\"c\",label=r\"$\\rho=0$\")\n",
    "        if rhom0+lambd==0 and rhora0!=0 :   #universe with only radiation\n",
    "            plt.plot(A,atoHonecrad(H0ER/conversions/conversionH0tosm1,phi0,phip0,A,A[0]),alpha=0.5,color=\"c\",label=r\"$\\rho_{ra} \\ne 0$\")\n",
    "        if lambd+rhora0==0 and rhom0!=0 :   #universe with only dust\n",
    "            plt.plot(A,atoHonec(H0ER/conversions/conversionH0tosm1,phi0,phip0,A,A[0],wm),alpha=0.5,color=\"c\",label=r\"$\\rho_m \\ne 0$\")\n",
    "        if limat==False:\n",
    "            plt.axvline(x=np.exp(lim), color='k',label=\"Limit condition\")\n",
    "        plt.ylabel(\"H (km/s/Mpc)\")\n",
    "        plt.xlabel(\"a\")\n",
    "        plt.loglog()\n",
    "        plt.legend()\n",
    "        plt.show()\n",
    "    \n",
    "    if X==\"varG\" or Al:\n",
    "        plt.plot(A,varG,color=\"b\",alpha=0.5,label=\"Solution\")\n",
    "        plt.xscale('log')\n",
    "        plt.ylabel(\"Variation of G (km/s/Mpc)\")\n",
    "        plt.xlabel(\"a\")\n",
    "        plt.legend()\n",
    "        plt.show()\n",
    "\n",
    "    if X==\"Hp\" or Al:\n",
    "        plt.plot(A,abs(Hp),color=\"b\",alpha=0.5,label=\"Solution\")\n",
    "        if Hp[0]<0:\n",
    "            lab=\"-\"\n",
    "        else:\n",
    "            lab=\"\"\n",
    "        plt.loglog()\n",
    "        plt.ylabel(lab+\"Hp (km/s/Mpc)\")\n",
    "        plt.xlabel(\"a\")\n",
    "        plt.legend()\n",
    "        plt.show()\n",
    "        \n",
    "    if X==\"H/H0\":     #We do the same as for H, but normalize\n",
    "        plt.plot(A,H/H0ER,alpha=0.5,color=\"b\",label=\"Solution\")\n",
    "        if phip0!=0:\n",
    "            plt.plot(A,atoH(A,1,phip0,phip),\"--\",alpha=0.5,color=\"r\",label=\"Formula with phip\")\n",
    "        if rhom0+rhora0==0 and lambd!=0 :\n",
    "            plt.plot(A,atoHonec(1,phi0,phip0,A,A[0],-1),alpha=0.5,color=\"c\",label=r\"$\\rho=0$\")\n",
    "        if rhom0+lambd==0 and rhora0!=0 :\n",
    "            plt.plot(A,atoHonecrad(1,phi0,phip0,A,A[0]),alpha=0.5,color=\"c\",label=r\"$\\rho_{ra} \\ne 0$\")\n",
    "        if lambd+rhora0==0 and rhom0!=0 :\n",
    "            plt.plot(A,atoHonec(1,phi0,phip0,A,A[0],wm),alpha=0.5,color=\"c\",label=r\"$\\rho_m \\ne 0$\")\n",
    "        plt.loglog()\n",
    "        plt.ylabel(r\"$\\frac{H}{H_0}$\")\n",
    "        plt.xlabel(\"a\")\n",
    "        plt.legend()\n",
    "        plt.show()\n",
    "\n",
    "    if (X==\"rhom\" or Al) and rhom0!=0:    #Dust density with an analytical solution\n",
    "        plt.plot(A,rhom,alpha=0.5,color=\"b\",label=\"Solution\")\n",
    "        plt.plot(A,rhoanda(rhom0,A,wm,a0),alpha=0.5,color=\"r\",label=\"Analytical solution\")\n",
    "        plt.loglog()\n",
    "        plt.ylabel(r\"$\\rho_m$\")\n",
    "        plt.xlabel(\"a\")\n",
    "        plt.legend()\n",
    "        plt.show()\n",
    "          \n",
    "    if (X==\"rhora\" or Al) and rhora0!=0:    #radiation density with an analytical solution\n",
    "        plt.plot(A,rhora,alpha=0.5,color=\"b\",label=\"Solution\")\n",
    "        plt.plot(A,rhoanda(rhora0,A,wra,a0),alpha=0.5,color=\"r\",label=\"Analytical solution\")  #Comparing with the usual case\n",
    "        plt.loglog()\n",
    "        plt.ylabel(r\"$\\rho_r$\")\n",
    "        plt.xlabel(\"a\")\n",
    "        plt.legend()\n",
    "        plt.show()\n",
    "    \n",
    "    if (X==\"rhopot\" or Al) and lambd!=0:    #potential density\n",
    "        plt.plot(A,rhopot,alpha=0.5,color=\"b\",label=\"Solution\")\n",
    "        plt.loglog()\n",
    "        plt.ylabel(r\"$\\rho_{\\lambda}$\")\n",
    "        plt.xlabel(\"a\")\n",
    "        plt.legend()\n",
    "        plt.show()\n",
    "          \n",
    "    if X==\"phi\" or Al:          #Scalar field    atophionec(phi0,phip0,a,a0,w)\n",
    "        plt.plot(A,phi,alpha=0.5,color=\"b\",label=\"Solution\")\n",
    "        #Case of one components\n",
    "        if rhom0+rhora0==0 and lambd!=0 :   #universe with only a potential\n",
    "            plt.plot(A,atophionec(phi0,phip0,A,A[0],-1),alpha=0.5,color=\"c\",label=r\"$\\rho=0$\")\n",
    "        if rhom0+lambd==0 and rhora0!=0 :   #universe with only radiation\n",
    "            plt.plot(A,atophionec(phi0,phip0,A,A[0],wra),alpha=0.5,color=\"c\",label=r\"$\\rho_{ra} \\ne 0$\")\n",
    "        if lambd+rhora0==0 and rhom0!=0 :   #universe with only dust\n",
    "            plt.plot(A,atophionec(phi0,phip0,A,A[0],wm),alpha=0.5,color=\"c\",label=r\"$\\rho_m \\ne 0$\")\n",
    "        plt.loglog()\n",
    "        plt.ylabel(r\"$\\phi$\")\n",
    "        plt.xlabel(\"a\")\n",
    "        plt.legend()\n",
    "        plt.show()\n",
    "       \n",
    "    if X==\"phip\" or Al:         #Derivative of the scalar field in respect of the number of e-folds\n",
    "        plt.plot(A,phip,color=\"b\",alpha=0.5,label=\"Solution\")\n",
    "        plt.plot(A,atophip(A,phip0,a0,H0ER,H),alpha=0.5,color=\"r\",label=\"Analytical solution\")\n",
    "        plt.xscale(\"log\")\n",
    "        plt.ylabel(r\"$\\phi,_N$\")\n",
    "        plt.xlabel(\"a\")\n",
    "        plt.legend()\n",
    "        plt.show()\n",
    "    \n",
    "    if phip0!=0 and X=='phipp':  #The second derivative divided by phip\n",
    "        if phip0!=0:\n",
    "            plt.plot(A,(phipp/phip),alpha=0.5,color=\"b\",label=\"Solution\")\n",
    "            plt.xscale(\"log\")\n",
    "            plt.ylabel(r\"$\\frac{\\phi_{,NN}}{\\phi_{,N}}$\")\n",
    "            plt.show()\n",
    "        else:\n",
    "            print(\"phip0=0\")\n",
    "        \n",
    "    if X==\"omega\":       #Evolution of the different omega\n",
    "        plt.plot(A,omegam,color=\"k\",label=r\"$\\Omega_m$\")\n",
    "        plt.plot(A,omegara,color=\"r\",label=r\"$\\Omega_{radiation}$\")\n",
    "        plt.plot(A,omegapot,color=\"c\",label=r\"$\\Omega_{\\lambda}$\")\n",
    "        if limat==False:\n",
    "            plt.axvline(x=np.exp(lim), color='k',label=\"Limit condition\")\n",
    "        plt.xscale(\"log\")\n",
    "        plt.ylabel(r\"$\\Omega$\")\n",
    "        plt.xlabel(\"a\")\n",
    "        plt.legend()\n",
    "        plt.show()\n",
    "        \n",
    "    print(\"At the end of the simulation, at a=\"+str(np.exp(Dn[-1])))\n",
    "    print(\"value of phi : \"+str(phi[-1]))\n",
    "    print(\"value of phip : \"+str(phip[-1]))\n",
    "    print(\"value of H : \"+str(H[-1]/conversions/conversionH0tosm1)+\" km/s/Mpc\")\n",
    "    print(\"value of rhom : \"+str(rhom[-1]))\n",
    "    print(\"value of rhora : \"+str(rhora[-1]))\n",
    "        "
   ]
  },
  {
   "cell_type": "code",
   "execution_count": null,
   "id": "81c173e3",
   "metadata": {},
   "outputs": [],
   "source": []
  },
  {
   "cell_type": "markdown",
   "id": "5c174a42",
   "metadata": {},
   "source": [
    "                                    Initial conditions"
   ]
  },
  {
   "cell_type": "markdown",
   "id": "48146dd2",
   "metadata": {},
   "source": [
    "For the initial condition, we are going to use Lunar Laser Engine (LLR) conditions to determine the range of value of $\\phi_{0,N}$.\n",
    "For the density we are going to use the one we find in GR and adapt them for our theory:\\\n",
    "  $\\rho_{0aER}=\\rho_{0aRG}(1+\\frac{\\phi_{0,N}}{\\phi_0}) \\qquad \\rho_{cER}=\\rho_{cER} \\left(1+\\frac{\\phi_{,N}}{\\phi} \\right) $\\\n",
    "The value of $\\Omega$ doesn't change."
   ]
  },
  {
   "cell_type": "code",
   "execution_count": 296,
   "id": "5a55a8e0",
   "metadata": {},
   "outputs": [],
   "source": [
    "def initcond(PHI0,PHIP0,H0,Lambda,srhom,srhora,slambda,rhoc0,aeg,k):\n",
    "    phi0=PHI0       #Value of the scalar field today\n",
    "    phip0=phi0*PHIP0/H0*conversionGeVm1toyr    #We use the constraint gives by lunar Laser Engine\n",
    "    cons=1+phip0/phi0\n",
    "\n",
    "    kappabar=(kappa**2)*np.sqrt(phi0)     #Constant determination\n",
    "    Lambda=1.1056*10**(-52)*(conversionm**2)\n",
    "    \n",
    "    if srhom==0 and srhora==0:      #In case of a universe with only lambda\n",
    "        lambd=3*(H0**2)*cons/phi0 \n",
    "        Lambda=3*(H0**2)\n",
    "    else:\n",
    "        lambd=Lambda*cons/phi0\n",
    "        \n",
    "    if slambda==0:     #In case of a nuiverse without lambda\n",
    "        Lambda=0\n",
    "        lambd=0\n",
    "\n",
    "    print(\"value of Lambda : \"+str(Lambda))\n",
    "                            \n",
    "                    # in GR\n",
    "    rhoc0RG=3*H0**2/(kappa**2)    #Critical density in GR\n",
    "    #For the curvature of the universe      \n",
    "    omegaK0RG=float(0)\n",
    "    K=k*omegaK0RG*H0**2\n",
    "    omegatotRG=float(1-omegaK0RG)\n",
    "    print(\"omegatotRG : \"+str(omegatotRG))\n",
    "\n",
    "    omegala0RG=Lambda/(3*H0**2)\n",
    "    \n",
    "    if srhom==0:         #If there is no dust\n",
    "        omegara0RG=omegatotRG-omegala0RG\n",
    "    else:\n",
    "        omegara0RG=5.44*10**(-5)*srhora\n",
    "    wra=1/3\n",
    "    \n",
    "    omegam0RG=(omegatotRG-omegala0RG-omegara0RG)\n",
    "    wm=0\n",
    "\n",
    "    rhom0RG=rhoc0RG*omegam0RG*srhom     #Density of dust\n",
    "    rhora0RG=rhoc0RG*omegara0RG*srhora  #Density of radiation\n",
    "    rhola0RG=rhoc0RG*omegala0RG\n",
    "    \n",
    "    print(\"value of rhoc0ER : \"+str(rhoc0RG))\n",
    "    \n",
    "    print(\"value of rhom0RG : \"+str(rhom0RG))\n",
    "    print(\"value of rhora0RG : \"+str(rhora0RG))\n",
    "    print(\"value of rhola0RG : \"+str(rhola0RG))\n",
    "\n",
    "    print(\"omegam0RG : \"+str(omegam0RG))\n",
    "    print(\"omegatot0RG : \"+str(omegam0RG+omegala0RG+omegara0RG))\n",
    "    print(\"omegatot0RG2 : \"+str((rhom0RG+rhola0RG+rhora0RG)/rhoc0RG))\n",
    "    \n",
    "    # in ER\n",
    "    rhoc0ER=rhoc0RG*cons         #Critical density in ER today\n",
    "    rhom0ER=rhom0RG*cons*srhom         #dust density in ER today\n",
    "    rhora0ER=rhora0RG*cons*srhora         #radiation density in ER today\n",
    "    rhola0ER=lambd*phi0**(3/2)/kappabar         #potential density in ER today\n",
    "\n",
    "    omegam0ER=rhom0ER/rhoc0ER\n",
    "    omegara0ER=rhora0ER/rhoc0ER\n",
    "    omegala0ER=rhola0ER/rhoc0ER\n",
    "    \n",
    "    print(\"omegam0ER : \"+str(omegam0ER))\n",
    "    print(\"omegara0ER : \"+str(omegara0ER))\n",
    "    print(\"omegala0ER : \"+str(omegala0ER))\n",
    "    \n",
    "    print(\"dif omegam0 : \"+str(omegam0ER-omegam0RG))\n",
    "    print(\"omegatot0ER : \"+str(omegara0ER+omegam0ER+omegala0ER))\n",
    "    print(\"omegatot0ER2 : \"+str((rhom0ER+rhola0ER+rhora0ER)/rhoc0ER))\n",
    "    print(\"omegatot0ER2==omegatot0RG2 : \"+str((rhom0ER+rhola0ER+rhora0ER)/rhoc0ER==(rhom0RG+rhola0RG+rhora0RG)/rhoc0RG))\n",
    "    \n",
    "    H0RGt=np.sqrt(kappa**2*(rhom0RG+rhora0RG)/3+Lambda/3)   #Hubble paramter today in RG\n",
    "    H0ER=np.sqrt((kappabar*(rhom0ER+rhora0ER)/(3*np.sqrt(phi0))+V(phi0,lambd)/(6*phi0))/(cons))   #Hubble paramter today in ER\n",
    "    print(\"The value of H0 (ob) is \"+str(H0/conversions/conversionH0tosm1)+\" km/s/Mpc\")\n",
    "    print(\"The value of H0 (RG) is \"+str(H0RGt/conversions/conversionH0tosm1)+\" km/s/Mpc\")\n",
    "    print(\"The value of H0 (ER) is \"+str(H0ER/conversions/conversionH0tosm1)+\" km/s/Mpc\")\n",
    "    \n",
    "    a0=1                      #today\n",
    "    \n",
    "    if omegara0ER*omegam0ER!=0 and aeg<a0:\n",
    "        if aeg>omegara0ER/omegam0ER:\n",
    "            aeg=omegara0ER/omegam0ER   # Put the end of the simulation at the beginning of matter era if it exist\n",
    "        print(omegara0ER/omegam0ER)\n",
    "    n0=np.log(a0)             #E-folds corresponding to the conditions\n",
    "    nfsepa=np.log(aeg)\n",
    "\n",
    "    Dn=[n0,nfsepa]\n",
    "    print(\"value of phi0 : \"+str(phi0))\n",
    "    print(\"value of phip0 : \"+str(phip0))\n",
    "    print(\"value of H0ER : \"+str(H0ER/conversions/conversionH0tosm1)+\" km/s/Mpc\")\n",
    "    print(\"value of rhom0ER : \"+str(rhom0ER))\n",
    "    print(\"value of rhora0ER : \"+str(rhora0ER))\n",
    "    print(\"value of wm : \"+str(wm))\n",
    "    print(\"value of wra : \"+str(wra))\n",
    "    print(\"value of Dn : \"+str(Dn))\n",
    "    print(\"value of Da : \"+str(np.exp(Dn)))\n",
    "    print(\"value of kappabar : \"+str(kappabar))\n",
    "    print(\"value of lambda : \"+str(lambd))\n",
    "    print(\"value of K : \"+str(K))\n",
    "\n",
    "    return(phi0,phip0,H0ER,rhom0ER,rhora0ER,wm,wra,Dn,kappabar,lambd,K)"
   ]
  },
  {
   "cell_type": "markdown",
   "id": "6f397e6d",
   "metadata": {},
   "source": [
    "Initial conditions for the scalar field, we chose:\\\n",
    "$\\phi_0$ \n",
    "\n",
    "and PHIP0 ($yr^{-1}$), such as:\\\n",
    "$\\phi_{0,N}=\\phi_0*PHIP0/H_0$"
   ]
  },
  {
   "cell_type": "code",
   "execution_count": 297,
   "id": "2f2e6c33",
   "metadata": {},
   "outputs": [],
   "source": [
    "PHI0=1   #The value of the scalar field today\n",
    "PHIP0=-26*10**(-13)#10**(-13)#-26*10**(-13)   #We use the constraint gives by lunar Laser Engine"
   ]
  },
  {
   "cell_type": "markdown",
   "id": "b2580c5c",
   "metadata": {},
   "source": [
    "Scale factor at the end of the simulation\n",
    "If it is a simulation with dust and radiation, you cannot chose during matter era, it will go to the equality between matter and radiation era."
   ]
  },
  {
   "cell_type": "code",
   "execution_count": 298,
   "id": "1f229100",
   "metadata": {},
   "outputs": [],
   "source": [
    "aeg=2.17*10**(-4)      #To chose before the dust radiation equality or in the future (otherwise will be dust=ra)"
   ]
  },
  {
   "cell_type": "markdown",
   "id": "914f0baa",
   "metadata": {},
   "source": [
    "To change the universe:\\\n",
    "If lambda==0 => slambda=0 otherwise =1\\\n",
    "If rhom==0 => srhom=0 otherwise =1\\\n",
    "If rhora==0 => srhora=0 otherwise =1\\\n",
    "and the curvature"
   ]
  },
  {
   "cell_type": "code",
   "execution_count": 299,
   "id": "3aca308e",
   "metadata": {},
   "outputs": [],
   "source": [
    "slambda=float(1)    #If lambda==0 => slambda=0 otherwise =1\n",
    "srhom=float(1)      #If rhom==0 => srhom=0 otherwise =1\n",
    "srhora=float(1)     #If rhora==0 => srhora=0 otherwise =1\n",
    "\n",
    "k=0                 #Curvature                    "
   ]
  },
  {
   "cell_type": "code",
   "execution_count": null,
   "id": "d4fe81f7",
   "metadata": {},
   "outputs": [],
   "source": []
  },
  {
   "cell_type": "markdown",
   "id": "240a8abf",
   "metadata": {},
   "source": [
    "                    Solve the system"
   ]
  },
  {
   "cell_type": "markdown",
   "id": "a4d9cbee",
   "metadata": {},
   "source": [
    "Initials conditions for the simulation"
   ]
  },
  {
   "cell_type": "code",
   "execution_count": 300,
   "id": "e388fc33",
   "metadata": {},
   "outputs": [
    {
     "name": "stdout",
     "output_type": "stream",
     "text": [
      "value of Lambda : 4.290723039999999e-84\n",
      "omegatotRG : 1.0\n",
      "value of rhoc0ER : 4.299228403930309e-47\n",
      "value of rhom0RG : 1.7615104296222636e-47\n",
      "value of rhora0RG : 2.3387802517380886e-51\n",
      "value of rhola0RG : 2.5374840962828716e-47\n",
      "omegam0RG : 0.40972711010466656\n",
      "omegatot0RG : 1.0\n",
      "omegatot0RG2 : 1.0\n",
      "omegam0ER : 0.40972711010466656\n",
      "omegara0ER : 5.440000000000001e-05\n",
      "omegala0ER : 0.5902184898953334\n",
      "dif omegam0 : 0.0\n",
      "omegatot0ER : 1.0\n",
      "omegatot0ER2 : 1.0000000000000002\n",
      "omegatot0ER2==omegatot0RG2 : False\n",
      "The value of H0 (ob) is 73.0 km/s/Mpc\n",
      "The value of H0 (RG) is 73.0 km/s/Mpc\n",
      "The value of H0 (ER) is 73.0 km/s/Mpc\n",
      "0.00013277129742794732\n",
      "value of phi0 : 1\n",
      "value of phip0 : -0.03482547638863085\n",
      "value of H0ER : 73.0 km/s/Mpc\n",
      "value of rhom0ER : 1.7001649897471264e-47\n",
      "value of rhora0ER : 2.2573311153029876e-51\n",
      "value of wm : 0\n",
      "value of wra : 0.3333333333333333\n",
      "value of Dn : [0.0, -8.92688247810792]\n",
      "value of Da : [1.00000000e+00 1.32771297e-04]\n",
      "value of kappabar : 1.6909359338588269e-37\n",
      "value of lambda : 4.141296566080324e-84\n",
      "value of K : 0.0\n"
     ]
    }
   ],
   "source": [
    "(phi0,phip0,H0ER,rhom0ER,rhora0ER,wm,wra,Dn,kappabar,lambd,K)=initcond(PHI0,PHIP0,H0,Lambda,srhom,srhora,slambda,rhoc0,aeg,k)"
   ]
  },
  {
   "cell_type": "code",
   "execution_count": null,
   "id": "808e64d2",
   "metadata": {},
   "outputs": [],
   "source": []
  },
  {
   "cell_type": "markdown",
   "id": "a2c9c0f2",
   "metadata": {},
   "source": [
    "solve the set of equation"
   ]
  },
  {
   "cell_type": "code",
   "execution_count": 301,
   "id": "2e01ba6a",
   "metadata": {},
   "outputs": [],
   "source": [
    "solution=solveBDN(phi0,H0ER,rhom0ER,rhora0ER,phip0,kappabar,wm,wra,Dn,K,lambd)"
   ]
  },
  {
   "cell_type": "markdown",
   "id": "24305135",
   "metadata": {},
   "source": [
    "What do you want to plot?"
   ]
  },
  {
   "cell_type": "code",
   "execution_count": 302,
   "id": "8b77e2e2",
   "metadata": {},
   "outputs": [],
   "source": [
    "#plot the variable X=\"H,Hp,H/H0,rhom,rhora,rhopot,phi,phip,phipp,omega\" or X=\"A\" for everything (except for H/H0 and omega)\n",
    "X=\"H\""
   ]
  },
  {
   "cell_type": "markdown",
   "id": "a9419a62",
   "metadata": {},
   "source": [
    "Plot:"
   ]
  },
  {
   "cell_type": "code",
   "execution_count": 303,
   "id": "103b369d",
   "metadata": {
    "scrolled": false
   },
   "outputs": [
    {
     "name": "stdout",
     "output_type": "stream",
     "text": [
      "The value of H0 (ob) is 73.0 km/s/Mpc\n",
      "The value of H0 (ER) is 73.0 km/s/Mpc\n"
     ]
    },
    {
     "data": {
      "image/png": "[encoded data removed]",
      "text/plain": [
       "<Figure size 640x480 with 1 Axes>"
      ]
     },
     "metadata": {},
     "output_type": "display_data"
    },
    {
     "name": "stdout",
     "output_type": "stream",
     "text": [
      "At the end of the simulation, at a=0.00013277129742794724\n",
      "value of phi : 1063.5015997544435\n",
      "value of phip : -1063.4725890743603\n",
      "value of H : 1021365133.4082859 km/s/Mpc\n",
      "value of rhom : 7.264044087060797e-36\n",
      "value of rhora : 2.227457352088359e-37\n"
     ]
    }
   ],
   "source": [
    "plotBDN(solution,phi0,rhom0ER,rhora0ER,phip0,kappabar,wm,wra,Dn,K,lambd,H0ER,X)"
   ]
  },
  {
   "cell_type": "code",
   "execution_count": null,
   "id": "055a84fa",
   "metadata": {},
   "outputs": [],
   "source": []
  },
  {
   "cell_type": "markdown",
   "id": "2499e9e2",
   "metadata": {},
   "source": [
    "             In General Relativity"
   ]
  },
  {
   "cell_type": "markdown",
   "id": "21edb8b6",
   "metadata": {},
   "source": [
    " We are going to use Friedmann equation:\\\n",
    " $HH_{,N}=\\frac{\\kappa^2}{2}(\\rho+p)$\\\n",
    " and the conservation equation:\\\n",
    " $\\dot{\\rho_a}+3H(w_a+1)\\rho_a=0$"
   ]
  },
  {
   "cell_type": "code",
   "execution_count": 304,
   "id": "6becd736",
   "metadata": {},
   "outputs": [],
   "source": [
    "def systemRGNC(n,Y,kappa,wm,wla,wra,rho0,H0):\n",
    "            #We define our variables\n",
    "    H=Y[0]    #Hubble parameter (normalize)\n",
    "    rhomn=Y[1] #matter density norma\n",
    "    rhom=rhomn*rho0\n",
    "    rholan=Y[2]  #Constant cosmo norma\n",
    "    rhola=rholan*rho0\n",
    "    rhoran=Y[3]  #radiation norma\n",
    "    rhora=rhoran*rho0\n",
    "    \n",
    "    Hp=-(kappa**2)*(rhom*(1+wm)+rhola*(1+wla)+rhora*(1+wra))/(2*H*(H0**2))\n",
    "    \n",
    "    #Conservation equations\n",
    "    \n",
    "    rhomp=-3*(1+wm)*rhomn \n",
    "    rholap=-3*(1+wla)*rholan \n",
    "    rhorap=-3*(1+wra)*rhoran \n",
    "    \n",
    "    return(Hp,rhomp,rholap,rhorap)"
   ]
  },
  {
   "cell_type": "markdown",
   "id": "99d82cda",
   "metadata": {},
   "source": [
    "        Solve the system of equation"
   ]
  },
  {
   "cell_type": "code",
   "execution_count": 305,
   "id": "d39902ca",
   "metadata": {},
   "outputs": [],
   "source": [
    "def solveRGNC(H0RG,rhom0,rhola0,rhora0,rho0,kappa,wm,wla,wra,Dn):\n",
    "    Yci=[H0RG/H0RG,rhom0/rho0,rhola0/rho0,rhora0/rho0]  #initial conditions, normalize\n",
    "    N=10**(7-enl)                                       #number of points in the solving\n",
    "    efolds=np.linspace(Dn[0],Dn[1],N)                   #List of points\n",
    "    solution = solve_ivp(systemRGNC, Dn, Yci, method='Radau', t_eval=efolds, args=(kappa,wm,wla,wra,rho0,H0RG),rtol=6*10**-11)  #Resolution of the set\n",
    "    print(solution.success)\n",
    "    return(solution)"
   ]
  },
  {
   "cell_type": "markdown",
   "id": "ad5c4577",
   "metadata": {},
   "source": [
    "        Plot"
   ]
  },
  {
   "cell_type": "code",
   "execution_count": 306,
   "id": "033c85ca",
   "metadata": {},
   "outputs": [],
   "source": [
    "def plotRGNC(solutionRG,H0RG,rhom0,rhola0,rhora0,rho0,kappa,wm,wla,wra,Dn,X):\n",
    "    Y=solutionRG.y\n",
    "    N=solutionRG.t\n",
    "    A=np.exp(N)\n",
    "    \n",
    "    Al=False\n",
    "    if X==\"A\":\n",
    "        Al=True\n",
    "        \n",
    "    H=Y[0]*H0RG   #Hubble paramter\n",
    "    rhom=Y[1]*rho0  #Dust density \n",
    "    rhola=Y[2]*rho0  #lambda density \n",
    "    rhora=Y[3]*rho0  #radiation density \n",
    "\n",
    "    H0RG=np.sqrt(((kappa**2)*(rhom[0]+rhola[0]+rhora[0])/3)+K/(A[0]**2))   #Hubble parameter today\n",
    "    print(\"The value of H0 (ob) is \"+str(H0/conversions/conversionH0tosm1)+\"km/s/Mpc\")\n",
    "    print(\"The value of H0 (RG) is \"+str(H0RG/conversions/conversionH0tosm1)+\"km/s/Mpc\")\n",
    "    \n",
    "    Hp=-(kappa**2)*(rhom*(1+wm)+rhola*(1+wla)+rhora*(1+wra))/(2*H)   #The derivative of Hubble parameter today\n",
    "    \n",
    "    rhoc=3*(H**2)/(kappa**2)  #Critical density\n",
    "    omegam=rhom/rhoc          #Omega dust\n",
    "    omegara=rhora/rhoc        #Omega radiation\n",
    "    omegala=rhola/rhoc        #Omega Lambda\n",
    "    \n",
    "    if X==\"H\" or Al:\n",
    "        plt.plot(A,H/conversions/conversionH0tosm1,alpha=0.5,color=\"b\",label=\"Solution\")\n",
    "        plt.loglog()\n",
    "        plt.ylabel(\"H (km/s/Mpc)\")\n",
    "        plt.xlabel(\"a\")\n",
    "        plt.legend()\n",
    "        plt.show()\n",
    "\n",
    "    if X==\"Hp\" or Al:\n",
    "        plt.plot(A,abs(Hp),color=\"b\",alpha=0.5,label=\"Solution\")\n",
    "        plt.loglog()\n",
    "        plt.ylabel(\"Hp (km/s/Mpc)\")\n",
    "        plt.xlabel(\"a\")\n",
    "        plt.legend()\n",
    "        plt.show()\n",
    "        \n",
    "    if X==\"H/H0\":\n",
    "        plt.plot(A,H/H0RG,alpha=0.5,color=\"b\",label=\"Solution\")\n",
    "        plt.loglog()\n",
    "        plt.ylabel(r\"$\\frac{H}{H_0}$\")\n",
    "        plt.xlabel(\"a\")\n",
    "        plt.legend()\n",
    "        plt.show()\n",
    "\n",
    "    if (X==\"rhom\" or Al) and rhom0!=0:\n",
    "        plt.plot(A,rhom,alpha=0.5,color=\"b\",label=\"Solution\")\n",
    "        plt.plot(A,rhoanda(rhom0,A,wm,a0),alpha=0.5,color=\"r\",label=\"Analytical solution\")\n",
    "        plt.loglog()\n",
    "        plt.ylabel(r\"$\\rho_m$\")\n",
    "        plt.xlabel(\"a\")\n",
    "        plt.legend()\n",
    "        plt.show()\n",
    "          \n",
    "    if (X==\"rhora\" or Al) and rhora0!=0:\n",
    "        plt.plot(A,rhora,alpha=0.5,color=\"b\",label=\"Solution\")\n",
    "        plt.plot(A,rhoanda(rhora0,A,wra,a0),alpha=0.5,color=\"r\",label=\"Analytical solution\")\n",
    "        plt.loglog()\n",
    "        plt.ylabel(r\"$\\rho_r$\")\n",
    "        plt.xlabel(\"a\")\n",
    "        plt.legend()\n",
    "        plt.show()\n",
    "    \n",
    "    if (X==\"rhola\" or Al) and rhola0!=0:\n",
    "        plt.plot(A,rhola,alpha=0.5,color=\"b\",label=\"Solution\")\n",
    "        plt.plot(A,rhoanda(rhola0,A,wla,a0),alpha=0.5,color=\"r\",label=\"Analytical solution\")\n",
    "        plt.loglog()\n",
    "        plt.ylabel(r\"$\\rho_{\\Lambda}$\")\n",
    "        plt.xlabel(\"a\")\n",
    "        plt.legend()\n",
    "        plt.show()\n",
    "    \n",
    "    if X==\"omega\":\n",
    "        plt.plot(A,omegam,color=\"m\",label=r\"$\\Omega_{RGm}$\")\n",
    "        plt.plot(A,omegara,color=\"g\",label=r\"$\\Omega_{RGra}$\")\n",
    "        plt.plot(A,omegala,color=\"y\",label=r\"$\\Omega_{RG\\Lambda}$\")\n",
    "        plt.xscale(\"log\")\n",
    "        plt.ylabel(r\"$\\Omega$\")\n",
    "        plt.xlabel(\"a\")\n",
    "        plt.legend()\n",
    "        plt.show()"
   ]
  },
  {
   "cell_type": "code",
   "execution_count": 307,
   "id": "8c0ea6e3",
   "metadata": {},
   "outputs": [
    {
     "name": "stdout",
     "output_type": "stream",
     "text": [
      "5.440000000000001e-05 0.40972711010466656 0.5902184898953334\n",
      "1.5566759238917063e-42\n",
      "0.00013277129742794732\n"
     ]
    }
   ],
   "source": [
    "# in GR\n",
    "rhoc0RG=rhoc0                    #Critical density\n",
    "\n",
    "omegara0=5.44*10**(-5)           #The omega radiation that we mesured\n",
    "wra=1/3\n",
    "\n",
    "omegala0=Lambda/(3*H0**2)\n",
    "wla=-1\n",
    "\n",
    "omegam0=1-omegala0-omegara0\n",
    "wm=0\n",
    "print(omegara0,omegam0,omegala0)\n",
    "\n",
    "rhom0=rhoc0RG*omegam0\n",
    "rhola0=rhoc0RG*omegala0\n",
    "rhora0=rhoc0RG*omegara0\n",
    "\n",
    "H0RG=np.sqrt(((kappa**2)*(rhom0+rhola0+rhora0)/3))\n",
    "print(H0RG)\n",
    "print(omegara0/omegam0)"
   ]
  },
  {
   "cell_type": "code",
   "execution_count": 308,
   "id": "9f63b22a",
   "metadata": {},
   "outputs": [
    {
     "name": "stdout",
     "output_type": "stream",
     "text": [
      "1 -0.03482547638863085 1.5566759238917063e-42 1.7001649897471264e-47 [0.0, -8.92688247810792]\n",
      "0\n"
     ]
    }
   ],
   "source": [
    "a0=1                        #today\n",
    "aeg=2.17*10**(-4)\n",
    "if omegara0*omegam0!=0 and aeg<a0:\n",
    "        if aeg>omegara0/omegam0:\n",
    "            aeg=omegara0/omegam0   # Put the end of the simulation at the beginning of matter era if it exist\n",
    "\n",
    "n0=np.log(a0)\n",
    "nfsepa=np.log(aeg)\n",
    "\n",
    "Dn=[n0,nfsepa]\n",
    "\n",
    "K=0#-1*conversions**2\n",
    "\n",
    "print(phi0,phip0,H0,rhom0ER,Dn)\n",
    "print(K)"
   ]
  },
  {
   "cell_type": "code",
   "execution_count": null,
   "id": "9492aed8",
   "metadata": {},
   "outputs": [],
   "source": []
  },
  {
   "cell_type": "code",
   "execution_count": 309,
   "id": "0937bf1f",
   "metadata": {},
   "outputs": [
    {
     "name": "stdout",
     "output_type": "stream",
     "text": [
      "True\n"
     ]
    }
   ],
   "source": [
    "solutionRG=solveRGNC(H0RG,rhom0,rhola0,rhora0,rhoc0RG,kappa,wm,wla,wra,Dn)\n",
    "if solutionRG.success ==False :\n",
    "    print(solution)"
   ]
  },
  {
   "cell_type": "code",
   "execution_count": 310,
   "id": "9ec0651b",
   "metadata": {},
   "outputs": [],
   "source": [
    "#plot the variable X=\"H,Hp,H/H0,rhom,rhora,rholambda\" or X=\"A\" for everything (except for H/H0 and omega)\n",
    "X=\"H\""
   ]
  },
  {
   "cell_type": "code",
   "execution_count": 311,
   "id": "cd599516",
   "metadata": {
    "scrolled": true
   },
   "outputs": [
    {
     "name": "stdout",
     "output_type": "stream",
     "text": [
      "The value of H0 (ob) is 73.0km/s/Mpc\n",
      "The value of H0 (RG) is 73.0km/s/Mpc\n"
     ]
    },
    {
     "data": {
      "image/png": "[encoded data removed]",
      "text/plain": [
       "<Figure size 640x480 with 1 Axes>"
      ]
     },
     "metadata": {},
     "output_type": "display_data"
    }
   ],
   "source": [
    "plotRGNC(solutionRG,H0RG,rhom0,rhola0,rhora0,rhoc0RG,kappa,wm,wla,wra,Dn,X)"
   ]
  },
  {
   "cell_type": "code",
   "execution_count": null,
   "id": "9ce4a904",
   "metadata": {},
   "outputs": [],
   "source": []
  },
  {
   "cell_type": "code",
   "execution_count": null,
   "id": "259eb357",
   "metadata": {},
   "outputs": [],
   "source": []
  },
  {
   "cell_type": "markdown",
   "id": "4682c461",
   "metadata": {},
   "source": [
    "# Find a minimum value for Hubble tension"
   ]
  },
  {
   "cell_type": "markdown",
   "id": "3e832573",
   "metadata": {},
   "source": [
    "Here we choose a value of $H0_{supernovae}= 72.0$ $km/s/Mpc$, and $H0_{cosmo}= 67.9$ $km/s/Mpc$"
   ]
  },
  {
   "cell_type": "code",
   "execution_count": 312,
   "id": "f1422ef8",
   "metadata": {},
   "outputs": [],
   "source": [
    "#Constantes:\n",
    "G=(6.67428)*10**(-11)*(conversions**2)/((conversionm**3)*conversionkg)    #pm 0.00015.10**-11\n",
    "kappa=np.sqrt(8*np.pi*G)   #GeV-1\n",
    "Lambda=1.1056*10**(-52)*(conversionm**2)\n",
    "if HM==\"c\":\n",
    "    H0=67.4*conversionH0tosm1*conversions     #pm 0.5    =[66.9,67.9]  67.4\n",
    "elif HM==\"s\":\n",
    "    H0=72.0*conversionH0tosm1*conversions       #pm 1.0  =[72.0,74.0]  73.0\n",
    "rhoc0=3*H0**2/(kappa**2)\n",
    "c=299792458\n",
    "a0=1"
   ]
  },
  {
   "cell_type": "code",
   "execution_count": 313,
   "id": "f07d77f2",
   "metadata": {},
   "outputs": [
    {
     "name": "stdout",
     "output_type": "stream",
     "text": [
      "Value of H0 supernovae : 72.0 km/s/Mpc\n"
     ]
    }
   ],
   "source": [
    "print(\"Value of H0 supernovae : \"+str(H0/conversionH0tosm1/conversions)+\" km/s/Mpc\")"
   ]
  },
  {
   "cell_type": "markdown",
   "id": "c446596f",
   "metadata": {},
   "source": [
    "Here we determine the position of the CMB (z=1090,H) with the value, $H0_{cosmo}= 67.9$ $km/s/Mpc$.\\\n",
    "Compare to the first version, we calculate the value of $\\Omega$."
   ]
  },
  {
   "cell_type": "code",
   "execution_count": 315,
   "id": "88aabc8e",
   "metadata": {},
   "outputs": [],
   "source": [
    "def HCMBminflat(z):    \n",
    "    H0cosmo=67.9     #pm 0.5    =[66.9,67.9]  67.4\n",
    "    rhoc0RG=3*H0cosmo**2/(kappa**2)\n",
    "    \n",
    "    Lambda=1.1056*10**(-52)*(conversionm**2)\n",
    "\n",
    "    omegala0RG=Lambda/(3*H0cosmo**2)\n",
    "    omegara0RG=5.44*10**(-5)*srhora\n",
    "    omegam0RG=(omegala0RG-omegala0RG-omegara0RG)\n",
    "    return(H0cosmo*np.sqrt(((1+z)**4)*omegara0RG+((1+z)**3)*omegam0RG+omegala0RG))"
   ]
  },
  {
   "cell_type": "markdown",
   "id": "9787e734",
   "metadata": {},
   "source": [
    "Code to plot differents comparaison"
   ]
  },
  {
   "cell_type": "code",
   "execution_count": 328,
   "id": "678801fb",
   "metadata": {},
   "outputs": [],
   "source": [
    "def compaNmin(solutionRG,solutionER,phi0,phip0,rhom0RG,rhom0ER,rhora0RG,rhora0ER,wm,wra,wla,Lambda,lambd,X,Condition):\n",
    "    a0=1\n",
    "    \n",
    "    YRG=solutionRG.y   #[HRG/H0RG,rhom/rho0,rhola/rho0,rhora/rho0]       \n",
    "    NRG=solutionRG.t   #The number of e-folds in RG simulation\n",
    "    ARG=np.exp(NRG)    #The scale factor in RG simulation\n",
    "    \n",
    "    YER=solutionER.y   #[phi]      \n",
    "    NER=solutionER.t   #The number of e-folds in ER simulation \n",
    "    AER=np.exp(NER)    #The scale factor in ER simulation\n",
    "    \n",
    "                            #For GR\n",
    "    \n",
    "    H0RG=np.sqrt(kappa**2*(rhom0RG+rhora0RG)/3+Lambda/3)          #Hubble paramater today in GR\n",
    "\n",
    "    HRG=YRG[0]*H0RG              #Hubble parameter in GR\n",
    "    rhomRG=YRG[1]*rhoc0RG        #Dust density in GR\n",
    "    rholaRG=YRG[2]*rhoc0RG       #lambda density in GR\n",
    "    rhoraRG=YRG[3]*rhoc0RG       #radiation density in GR\n",
    "    \n",
    "    HpRG=-(kappa**2)*(rhomRG*(1+wm)+rholaRG*(1+wla)+rhoraRG*(1+wra))/(2*HRG)   #Derivative of Hubble parameter in GR\n",
    "\n",
    "                            #For ER\n",
    "        \n",
    "    phi=YER[0]                               #Scalar field\n",
    "    \n",
    "    rhomER=rhom0ER*np.exp(-3*(1+wm)*NER)     #Dust density in ER\n",
    "    rhoraER=rhora0ER*np.sqrt(phi0/phi)*np.exp(-3*(1+wra)*NER)   #radiation density in ER\n",
    "    rhopot=lambd*phi**(3/2)/kappabar      #Potential density\n",
    "\n",
    "    H0ER=np.sqrt((kappabar*(rhom0ER+rhora0ER)/(3*np.sqrt(phi0))+V(phi0,lambd)/(6*phi0))/(1+phip0/phi0))  #Hubble parameter in ER today\n",
    "        \n",
    "    B=phip0*H0ER*np.exp(-3*NER)/phi\n",
    "    C=kappabar*(rhomER+rhoraER)/(3*np.sqrt(phi))+V(phi,lambd)/(6*phi)\n",
    "    delta=B*B+4*C\n",
    "    HER=(-B+np.sqrt(delta))/2            #Hubble parameter in ER\n",
    "\n",
    "    phip=phip0*(H0ER/HER)*np.exp(-3*NER)    #Derivative of the scalar field in respect of number of e-folds\n",
    "    \n",
    "    pER=wm*rhomER+wra*rhoraER              # Totale pressure in ER\n",
    "    HpER=-kappabar*pER/(2*np.sqrt(phi))-3*HER/2+HER*phip/(2*phi)+V(phi,lambd)/(4*HER*phi)   #Derivative of the Hubble parameter in ER\n",
    "        \n",
    "    phipp=-3*phip-HpER*phip/HER    #The second derivative of the scalar field\n",
    "            \n",
    "    rhocER=3*HER**2*np.sqrt(phi)*(1+phip/phi)/kappabar    #Critical density in ER\n",
    "    rhocRG=3*HRG**2/(kappa**2)                            #Critical density in GR\n",
    "    \n",
    "    omegamER=rhomER/rhocER                            #omega dust in ER\n",
    "    omegaraER=rhoraER/rhocER                          #omega radiation in ER\n",
    "    omegapotER=rhopot/rhocER                          #omega potential in ER\n",
    "    omegamRG=rhomRG/rhocRG                            #omega dust in GR\n",
    "    omegaraRG=rhoraRG/rhocRG                          #omega radiation in GR\n",
    "    omegalaRG=rholaRG/rhocRG                          #omega Lambda in GR\n",
    "    \n",
    "    print(\"The value of H0 (ob) is \"+str(H0/conversions/conversionH0tosm1)+\" km/s/Mpc\")\n",
    "    print(\"The value of H0 (RG) is \"+str(H0RG/conversions/conversionH0tosm1)+\" km/s/Mpc\")\n",
    "    print(\"The value of H0 (ER) is \"+str(H0ER/conversions/conversionH0tosm1)+\" km/s/Mpc\")\n",
    "    \n",
    "    varG=-1/2*phip/phi     #Relative variation of Geff only in ER\n",
    "    \n",
    "                    #Limit condition\n",
    "    \n",
    "    limat=True\n",
    "    lim=0\n",
    "    ilim=0\n",
    "    \n",
    "    if Condition==True:\n",
    "        for i in range(len(rhomER)):\n",
    "            if rhoraER[i]>=0.1*rhomER[i] and limat==True:    #We are looking for the first time that rhoradiation>0.1rhodust, and get the index\n",
    "                lim=NER[i]\n",
    "                ilim=i\n",
    "                limat=False\n",
    "                \n",
    "    \n",
    "    Al=False\n",
    "    if X==\"A\":\n",
    "        Al=True\n",
    "        \n",
    "    if X==\"H\" or Al:\n",
    "        plt.plot(AER,HER/conversions/conversionH0tosm1,alpha=0.7,color=\"b\",label=\"ER case\")  \n",
    "        #plt.plot(ARG,HRG/conversions/conversionH0tosm1,alpha=0.7,color=\"r\",label=\"GR case\")\n",
    "       # if phip0!=0:   #If the derivative use of the Klein-Gordon solution\n",
    "        #    plt.plot(AER,atoH(AER,H0ER/conversions/conversionH0tosm1,phip0,phip),\"--\",alpha=0.5,color=\"k\",label=\"Formula with phip\")\n",
    "        #If there is only one component\n",
    "        if rhom0ER+rhora0ER==0 and lambd!=0 :   #Only potential\n",
    "            plt.plot(AER,atoHonec(H0ER/conversions/conversionH0tosm1,phi0,phip0,AER,AER[0],-1),alpha=0.5,color=\"c\",label=r\"$\\rho=0$\")\n",
    "        if rhom0ER+lambd==0 and rhora0ER!=0 :   #Only radiation\n",
    "            plt.plot(AER,atoHonec(H0ER/conversions/conversionH0tosm1,phi0,phip0,AER,AER[0],wra),alpha=0.5,color=\"c\",label=r\"$\\rho_{ra} \\ne 0$\")\n",
    "        if lambd+rhora0ER==0 and rhom0ER!=0 :   #Only dust\n",
    "            plt.plot(AER,atoHonec(H0ER/conversions/conversionH0tosm1,phi0,phip0,AER,AER[0],wm),alpha=0.5,color=\"c\",label=r\"$\\rho_m \\ne 0$\")\n",
    "        if limat==False:\n",
    "            plt.axvline(x=np.exp(lim), color='c',label=\"Limit condition\")\n",
    "            \n",
    "        z=1090   #Redshift at the CMB\n",
    "        plt.axvline(x=1/(1+z),color=\"k\",label=\"CMB\")   #Scale factor at the CMB\n",
    "        y=HCMBminflat(z)\n",
    "        plt.axhline(y,color=\"k\")  #Value of H at the CMB\n",
    "        print(\"Position of the CMB, redshift: \"+str(z)+\" and H : \"+str(y)+ \" km/s/Mpc\")\n",
    "        \n",
    "        #plt.xlim(1/(2+z),1/(z))\n",
    "        #plt.ylim(y-10**5,2*y)\n",
    "        \n",
    "        plt.ylabel(\"H (km/s/Mpc)\")\n",
    "        plt.xlabel(\"a\")\n",
    "        plt.title(\"Evolution of H\")\n",
    "        plt.loglog()\n",
    "        plt.legend()\n",
    "        plt.show()\n",
    "    \n",
    "    if X==\"H/H0\":\n",
    "        plt.plot(AER,HER/H0ER,alpha=0.5,color=\"b\",label=\"ER case\")\n",
    "        plt.plot(ARG,YRG[0],alpha=0.5,color=\"r\",label=\"GR case\")\n",
    "        if phip0!=0:   #If the derivative use of the Klein-Gordon solution\n",
    "            plt.plot(AER,atoH(AER,1,phip0,phip),\"--\",alpha=0.5,color=\"k\",label=\"Formula with phip\")\n",
    "        #If there is only one components\n",
    "        if rhom0ER+rhora0ER==0 and lambd!=0 :   #Only potential\n",
    "            plt.plot(AER,atoHonec(1,phi0,phip0,AER,AER[0],-1),alpha=0.5,color=\"c\",label=r\"$\\rho=0$\")\n",
    "        if rhom0ER+lambd==0 and rhora0ER!=0 :   #Only radiation\n",
    "            plt.plot(AER,atoHonec(1,phi0,phip0,AER,AER[0],wra),alpha=0.5,color=\"c\",label=r\"$\\rho_{ra} \\ne 0$\")\n",
    "        if lambd+rhora0ER==0 and rhom0ER!=0 :   #Only dust\n",
    "            plt.plot(AER,atoHonec(1,phi0,phip0,AER,AER[0],wm),alpha=0.5,color=\"c\",label=r\"$\\rho_m \\ne 0$\")\n",
    "        plt.loglog()\n",
    "        plt.ylabel(r\"$\\frac{H}{H_0}$\")\n",
    "        plt.xlabel(\"a\")\n",
    "        plt.title(\"Evolution of \"+r\"$\\frac{H}{H_0}$\")\n",
    "        plt.legend()\n",
    "        plt.show()\n",
    "    \n",
    "    if X==\"Hp\" :\n",
    "        plt.plot(AER,abs(HpER),color=\"b\",alpha=0.5,label=\"ER case\")\n",
    "        plt.plot(ARG,abs(HpRG),color=\"r\",alpha=0.5,label=\"RG case\")\n",
    "        plt.loglog()\n",
    "        if HpER[0]<=0:\n",
    "            lab=r\"$-H_{,N}$\"\n",
    "        else:\n",
    "            lab=r\"$H_{,N}$\"\n",
    "        plt.ylabel(lab+\" (km/s/Mpc)\")\n",
    "        plt.xlabel(\"a\")\n",
    "        plt.title(\"Evolution of \"+r\"$H_{,N}$\")\n",
    "        plt.legend()\n",
    "        plt.show()\n",
    "        \n",
    "    if X==\"varG\" or Al:\n",
    "        plt.plot(AER,abs(varG),color=\"b\",alpha=0.5,label=\"Solution\")\n",
    "        if limat==False:\n",
    "            plt.axvline(x=np.exp(lim), color='k',label=\"Limit condition\")\n",
    "        plt.loglog()\n",
    "        if varG[0]<=0:\n",
    "            ab=\"-\"\n",
    "        else:\n",
    "            ab=\"\"\n",
    "        lab=r\"$\\frac{G_{eff,N}}{G_{eff}}$\"\n",
    "        plt.title(\"Variation of \"+ab+lab)\n",
    "        plt.ylabel(ab+lab)\n",
    "        plt.xlabel(\"a\")\n",
    "        plt.legend()\n",
    "        plt.show()\n",
    "\n",
    "    if X==\"rhom\" and rhom0ER!=0:\n",
    "        plt.plot(AER,rhomER,alpha=0.5,color=\"b\",label=\"ER case\")\n",
    "        plt.plot(AER,rhoanda(rhom0ER,AER,wm,a0),alpha=0.5,color=\"c\",label=\"Analytical solution\")\n",
    "        plt.plot(ARG,rhomRG,alpha=0.5,color=\"r\",label=\"RG case\")\n",
    "        plt.plot(ARG,rhoanda(rhom0RG,ARG,wm,a0),alpha=0.5,color=\"c\",label=\"Analytical solution\")\n",
    "        plt.loglog()\n",
    "        plt.ylabel(r\"$\\rho_m$\")\n",
    "        plt.xlabel(\"a\")\n",
    "        plt.title(\"Evolution of \"+r\"$\\rho_{m}$\")\n",
    "        plt.legend()\n",
    "        plt.show()\n",
    "\n",
    "    if X==\"rhora\" and rhora0RG!=0:\n",
    "        plt.plot(AER,rhoraER,alpha=0.5,color=\"b\",label=\"ER case\")\n",
    "        plt.plot(AER,rhoanda(rhora0ER,AER,wra,a0),alpha=0.5,color=\"c\",label=\"Analytical solution\")\n",
    "        plt.plot(ARG,rhoraRG,alpha=0.5,color=\"r\",label=\"RG case\")\n",
    "        plt.plot(ARG,rhoanda(rhora0RG,ARG,wra,a0),alpha=0.5,color=\"c\",label=\"Analytical solution\")\n",
    "        plt.loglog()\n",
    "        plt.ylabel(r\"$\\rho_{radiation}$\")\n",
    "        plt.xlabel(\"a\")\n",
    "        plt.title(\"Evolution of \"+r\"$\\rho_{radiation}$\")\n",
    "        plt.legend()\n",
    "        plt.show()\n",
    "        \n",
    "    if X==\"rhola\" and rhola0RG!=0:\n",
    "        plt.plot(ARG,rholaRG,alpha=0.5,color=\"r\",label=\"RG case\")\n",
    "        plt.plot(AER,rhopot,alpha=0.5,color=\"b\",label=\"ER case\")\n",
    "        plt.plot(ARG,rhoanda(rhola0RG,ARG,wla,a0),alpha=0.5,color=\"c\",label=\"Analytical solution\")\n",
    "        plt.loglog()\n",
    "        plt.ylabel(r\"$\\rho_{\\Lambda}$\")\n",
    "        plt.xlabel(\"a\")\n",
    "        plt.title(\"Evolution of \"+r\"$\\rho_{\\Lambda}$\")\n",
    "        plt.legend()\n",
    "        plt.show()\n",
    "          \n",
    "    if X==\"phi\" or Al:\n",
    "        plt.plot(AER,phi,alpha=0.5,color=\"b\",label=\"Solution\")\n",
    "        if rhom0ER+rhora0ER==0 and lambd!=0 :\n",
    "            plt.plot(AER,atophionec(phi0,phip0,AER,AER[0],-1),alpha=0.5,color=\"c\",label=r\"$\\rho=0$\")\n",
    "        if rhom0ER+lambd==0 and rhora0ER!=0 :\n",
    "            plt.plot(AER,atophionec(phi0,phip0,AER,AER[0],wra),alpha=0.5,color=\"c\",label=r\"$\\rho_{ra} \\ne 0$\")\n",
    "        if lambd+rhora0ER==0 and rhom0ER!=0 :\n",
    "            plt.plot(AER,atophionec(phi0,phip0,AER,AER[0],wm),alpha=0.5,color=\"c\",label=r\"$\\rho_m \\ne 0$\")\n",
    "        plt.loglog()\n",
    "        plt.ylabel(r\"$\\phi$\")\n",
    "        plt.xlabel(\"a\")\n",
    "        plt.title(\"Evolution of \"+r\"$\\phi$\")\n",
    "        plt.legend()\n",
    "        plt.show()\n",
    "       \n",
    "    if X==\"phip/phi\" :\n",
    "        plt.plot(AER,phip/phi,color=\"b\",alpha=0.5,label=\"Solution\")\n",
    "        if phip0>0:\n",
    "            plt.loglog()\n",
    "        plt.xscale(\"log\")\n",
    "        plt.ylabel(r\"$\\frac{\\phi,_N}{\\phi}$\")\n",
    "        plt.xlabel(\"a\")\n",
    "        plt.title(\"Evolution of \"+r\"$\\phi_{,N}$\")\n",
    "        plt.legend()\n",
    "        plt.show()\n",
    "        \n",
    "    if X==\"phip\" :\n",
    "        plt.plot(AER,phip,color=\"b\",alpha=0.5,label=\"Solution\")\n",
    "        plt.plot(AER,atophip(AER,phip0,a0,H0ER,HER),alpha=0.5,color=\"r\",label=\"Analytical solution\")\n",
    "        if phip0>0:\n",
    "            plt.loglog()\n",
    "        plt.xscale(\"log\")\n",
    "        plt.ylabel(r\"$\\phi,_N$\")\n",
    "        plt.xlabel(\"a\")\n",
    "        plt.title(\"Evolution of \"+r\"$\\phi_{,N}$\")\n",
    "        plt.legend()\n",
    "        plt.show()\n",
    "\n",
    "    if phip0!=0 and X=='phipp':\n",
    "        if phip0!=0:\n",
    "            plt.plot(AER,(phipp/phip),alpha=0.5,color=\"b\",label=\"Solution\")\n",
    "            plt.plot(AER,-(3/2+phip/(2*phi)),alpha=0.5,color=\"r\")\n",
    "            plt.title(\"Evolution of \"+r\"$\\frac{\\phi_{,NN}}{\\phi_{,N}}$\")\n",
    "            plt.xscale(\"log\")\n",
    "            plt.ylabel(r\"$\\frac{\\phi_{,NN}}{\\phi_{,N}}$\")\n",
    "            plt.show()\n",
    "        else:\n",
    "            print(\"phip0=0\")\n",
    "    \n",
    "    if X==\"omega\":\n",
    "        plt.plot(AER,omegamER,color=\"k\",label=r\"$\\Omega_{ERm}$\")\n",
    "        plt.plot(AER,omegaraER,color=\"r\",label=r\"$\\Omega_{ERra}$\")\n",
    "        plt.plot(AER,omegapotER,color=\"c\",label=r\"$\\Omega_{ER\\lambda}$\")\n",
    "        plt.plot(ARG,omegamRG,\":\",color=\"y\",label=r\"$\\Omega_{RGm}$\")\n",
    "        plt.plot(ARG,omegaraRG,\":\",color=\"g\",label=r\"$\\Omega_{RGra}$\")\n",
    "        plt.plot(ARG,omegalaRG,\":\",color=\"m\",label=r\"$\\Omega_{RG\\Lambda}$\")\n",
    "        if limat==False:\n",
    "            plt.axvline(x=np.exp(lim), color='k',label=\"Limit condition\")\n",
    "        plt.xscale(\"log\")\n",
    "        plt.ylabel(r\"$\\Omega$\")\n",
    "        plt.xlabel(\"a\")\n",
    "        plt.title(\"Evolution of \"+r\"$\\Omega$\")\n",
    "        plt.legend()\n",
    "        plt.show()\n",
    "        \n",
    "    if limat==False:\n",
    "        print(\"At the condtion, at a=\"+str(np.exp(NER[ilim])))\n",
    "        print(\"value of phi : \"+str(phi[ilim]))\n",
    "        print(\"value of phip : \"+str(phip[ilim]))\n",
    "        print(\"value of H (ER): \"+str(HER[ilim]/conversions/conversionH0tosm1)+\" km/s/Mpc\")\n",
    "        print(\"value of H (RG): \"+str(HRG[ilim]/conversions/conversionH0tosm1)+\" km/s/Mpc\")\n",
    "\n",
    "        print(\"value of max(omegamER) : \"+str(max(omegamER)))\n",
    "        print(\"value of max(omegaraER) : \"+str(max(omegaraER)))\n",
    "        print(\"value of max(omegapotER) : \"+str(max(omegapotER)))\n",
    "\n",
    "        print(\"value of max(omegamRG) : \"+str(max(omegamRG)))\n",
    "        print(\"value of max(omegaraRG) : \"+str(max(omegaraRG)))\n",
    "        print(\"value of max(omegalaRG) : \"+str(max(omegalaRG)))\n",
    "\n",
    "\n",
    "\n",
    "        print(\"value of rhomER : \"+str(rhomER[ilim]))\n",
    "        print(\"value of rhoraER : \"+str(rhoraER[ilim]))\n",
    "        print(\"value of rhopot : \"+str(rhopot[ilim]))\n",
    "        print(\"value of rhomRG : \"+str(rhomRG[ilim]))\n",
    "        print(\"value of rhoraRG : \"+str(rhoraRG[ilim]))\n",
    "        print(\"value of rholaRG : \"+str(rholaRG[ilim]))\n",
    "\n",
    "    else:\n",
    "        print(\"At the end of the simulation, at a=\"+str(np.exp(NER[-1])))\n",
    "        print(\"value of phi : \"+str(phi[-1]))\n",
    "        print(\"value of phip : \"+str(phip[-1]))\n",
    "        print(\"value of H (ER): \"+str(HER[-1]/conversions/conversionH0tosm1)+\" km/s/Mpc\")\n",
    "        print(\"value of H (RG): \"+str(HRG[-1]/conversions/conversionH0tosm1)+\" km/s/Mpc\")\n",
    "\n",
    "        print(\"value of max(omegamER) : \"+str(max(omegamER)))\n",
    "        print(\"value of max(omegaraER) : \"+str(max(omegaraER)))\n",
    "        print(\"value of max(omegapotER) : \"+str(max(omegapotER)))\n",
    "\n",
    "        print(\"value of max(omegamRG) : \"+str(max(omegamRG)))\n",
    "        print(\"value of max(omegaraRG) : \"+str(max(omegaraRG)))\n",
    "        print(\"value of max(omegalaRG) : \"+str(max(omegalaRG)))\n",
    "\n",
    "\n",
    "\n",
    "        print(\"value of rhomER : \"+str(rhomER[-1]))\n",
    "        print(\"value of rhoraER : \"+str(rhoraER[-1]))\n",
    "        print(\"value of rhopot : \"+str(rhopot[-1]))\n",
    "        print(\"value of rhomRG : \"+str(rhomRG[-1]))\n",
    "        print(\"value of rhoraRG : \"+str(rhoraRG[-1]))\n",
    "        print(\"value of rholaRG : \"+str(rholaRG[-1]))"
   ]
  },
  {
   "cell_type": "code",
   "execution_count": 317,
   "id": "7bc95959",
   "metadata": {},
   "outputs": [],
   "source": [
    "def initcondcomp(PHI0,PHIP0,H0,Lambda,srhom,srhora,slambda,rhoc0,aeg,k):\n",
    "    phi0=PHI0\n",
    "    phip0=phi0*PHIP0/H0*conversionGeVm1toyr    #We use the constraint gives by lunar Laser Engine\n",
    "    cons=1+phip0/phi0\n",
    "    \n",
    "    kappabar=(kappa**2)*np.sqrt(phi0)\n",
    "    Lambda=1.1056*10**(-52)*(conversionm**2)\n",
    "    if srhom==0 and srhora==0:\n",
    "        lambd=3*(H0**2)*cons/phi0 \n",
    "        Lambda=3*(H0**2)\n",
    "    else:\n",
    "        lambd=Lambda*cons/phi0\n",
    "        \n",
    "    if slambda==0:\n",
    "        Lambda=0\n",
    "        lambd=0\n",
    "\n",
    "    print(\"value of Lambda : \"+str(Lambda))\n",
    "    # in GR\n",
    "    rhoc0RG=3*H0**2/(kappa**2)\n",
    "            \n",
    "    omegaK0RG=float(0)\n",
    "    K=k*omegaK0RG*H0**2\n",
    "    omegatotRG=float(1-omegaK0RG)\n",
    "    print(\"omegatotRG : \"+str(omegatotRG))\n",
    "\n",
    "    omegala0RG=Lambda/(3*H0**2)\n",
    "    wla=-1\n",
    "    \n",
    "    if lambd+srhom==0:\n",
    "        omegara0RG=omegatotRG\n",
    "    if srhom==0:\n",
    "        omegara0RG=omegatotRG-omegala0RG\n",
    "    else:\n",
    "        omegara0RG=5.44*10**(-5)*srhora\n",
    "    wra=1/3\n",
    "    \n",
    "    omegam0RG=(omegatotRG-omegala0RG-omegara0RG)\n",
    "    wm=0\n",
    "\n",
    "    rhom0RG=rhoc0RG*omegam0RG*srhom\n",
    "    rhora0RG=rhoc0RG*omegara0RG*srhora\n",
    "    rhola0RG=rhoc0RG*omegala0RG\n",
    "    \n",
    "    print(\"value of rhoc0ER : \"+str(rhoc0RG))\n",
    "    \n",
    "    print(\"value of rhom0RG : \"+str(rhom0RG))\n",
    "    print(\"value of rhora0RG : \"+str(rhora0RG))\n",
    "    print(\"value of rhola0RG : \"+str(rhola0RG))\n",
    "    \n",
    "    print(\"omegam0RG : \"+str(omegam0RG))\n",
    "    print(\"omegara0RG : \"+str(omegara0RG))\n",
    "    print(\"omegala0RG : \"+str(omegala0RG))\n",
    "    \n",
    "    print(\"omegatot0RG : \"+str(omegam0RG+omegala0RG+omegara0RG))\n",
    "    print(\"omegatot0RG2 : \"+str((rhom0RG+rhola0RG+rhora0RG)/rhoc0RG))\n",
    "    print((rhom0RG+rhola0RG+rhora0RG)/rhoc0RG)\n",
    "    \n",
    "    # in ER\n",
    "    rhoc0ER=rhoc0RG*cons\n",
    "    rhom0ER=rhom0RG*cons*srhom\n",
    "    rhora0ER=rhora0RG*cons*srhora\n",
    "    rhola0ER=lambd*phi0**(3/2)/kappabar\n",
    "\n",
    "    omegam0ER=rhom0ER/rhoc0ER\n",
    "    omegara0ER=rhora0ER/rhoc0ER\n",
    "    omegala0ER=rhola0ER/rhoc0ER\n",
    "        \n",
    "    print(\"omegam0ER : \"+str(omegam0ER))\n",
    "    print(\"omegara0ER : \"+str(omegara0ER))\n",
    "    print(\"omegala0ER : \"+str(omegala0ER))\n",
    "    \n",
    "    print(\"dif omegam0 : \"+str(omegam0ER-omegam0RG))\n",
    "    print(\"omegatot0ER : \"+str(omegara0ER+omegam0ER+omegala0ER))\n",
    "    print(\"omegatot0ER2 : \"+str((rhom0ER+rhola0ER+rhora0ER)/rhoc0ER))\n",
    "    print(\"omegatot0ER2==omegatot0RG2 : \"+str((rhom0ER+rhola0ER+rhora0ER)/rhoc0ER==(rhom0RG+rhola0RG+rhora0RG)/rhoc0RG))\n",
    "    \n",
    "    H0RG=np.sqrt(kappa**2*(rhom0RG+rhora0RG)/3+Lambda/3)   \n",
    "    H0ER=np.sqrt((kappabar*(rhom0ER+rhora0ER)/(3*np.sqrt(phi0))+V(phi0,lambd)/(6*phi0))/(cons))\n",
    "    print(\"The value of H0 (ob) is \"+str(H0/conversions/conversionH0tosm1)+\" km/s/Mpc\")\n",
    "    print(\"The value of H0 (RG) is \"+str(H0RG/conversions/conversionH0tosm1)+\" km/s/Mpc\")\n",
    "    print(\"The value of H0 (ER) is \"+str(H0ER/conversions/conversionH0tosm1)+\" km/s/Mpc\")\n",
    "    \n",
    "    a0=1                      #today\n",
    "\n",
    "    if omegara0ER*omegam0ER!=0 :\n",
    "        if aeg>omegara0ER/omegam0ER and aeg<=1:\n",
    "            aeg=omegara0ER/omegam0ER\n",
    "\n",
    "    n0=np.log(a0)             #E-folds corresponding to the conditions\n",
    "    nfsepa=np.log(aeg)\n",
    "\n",
    "    Dn=[n0,nfsepa]\n",
    "    print(\"value of phi0 : \"+str(phi0))\n",
    "    print(\"value of phip0 : \"+str(phip0))\n",
    "    print(\"value of H0ER : \"+str(H0ER/conversions/conversionH0tosm1)+\" km/s/Mpc\")\n",
    "    print(\"value of rhom0ER : \"+str(rhom0ER))\n",
    "    print(\"value of rhora0ER : \"+str(rhora0ER))\n",
    "    print(\"value of wm : \"+str(wm))\n",
    "    print(\"value of wra : \"+str(wra))\n",
    "    print(\"value of Dn : \"+str(Dn))\n",
    "    print(\"value of Da : \"+str(np.exp(Dn)))\n",
    "    print(\"value of kappabar : \"+str(kappabar))\n",
    "    print(\"value of lambda : \"+str(lambd))\n",
    "    print(\"value of K : \"+str(K))\n",
    "\n",
    "    return(phi0,phip0,H0ER,H0RG,rhoc0ER,rhoc0RG,rhom0RG,rhora0RG,rhola0RG,rhom0ER,rhora0ER,wm,wra,wla,Dn,kappabar,Lambda,lambd,K)"
   ]
  },
  {
   "cell_type": "code",
   "execution_count": 355,
   "id": "319b31a1",
   "metadata": {},
   "outputs": [],
   "source": [
    "PHI0=1\n",
    "#PHIP0=1.37*10**(-15)\n",
    "PHIP0=13*10**(-16)\n",
    "\n",
    "\n",
    "slambda=float(1)    #If lambda==0 => slambda=0 otherwise =1\n",
    "srhom=float(1)      #If rhom==0 => srhom=0 otherwise =1\n",
    "srhora=float(1)     #If rhora==0 => srhora=0 otherwise =1\n",
    "\n",
    "aeg=2.17*10**(-2)\n",
    "\n",
    "k=0        #Curvature                    "
   ]
  },
  {
   "cell_type": "code",
   "execution_count": 356,
   "id": "a018fb6d",
   "metadata": {
    "scrolled": true
   },
   "outputs": [
    {
     "name": "stdout",
     "output_type": "stream",
     "text": [
      "value of Lambda : 4.290723039999999e-84\n",
      "omegatotRG : 1.0\n",
      "value of rhoc0ER : 4.182342078431112e-47\n",
      "value of rhom0RG : 1.6445734344732863e-47\n",
      "value of rhora0RG : 2.2751940906665255e-51\n",
      "value of rhola0RG : 2.5375411245487593e-47\n",
      "omegam0RG : 0.39321829817665266\n",
      "omegara0RG : 5.440000000000001e-05\n",
      "omegala0RG : 0.6067273018233473\n",
      "omegatot0RG : 1.0\n",
      "omegatot0RG2 : 1.0000000000000002\n",
      "1.0000000000000002\n",
      "omegam0ER : 0.39321829817665266\n",
      "omegara0ER : 5.440000000000001e-05\n",
      "omegala0ER : 0.6067273018233473\n",
      "dif omegam0 : 0.0\n",
      "omegatot0ER : 1.0\n",
      "omegatot0ER2 : 1.0\n",
      "omegatot0ER2==omegatot0RG2 : False\n",
      "The value of H0 (ob) is 72.0 km/s/Mpc\n",
      "The value of H0 (RG) is 72.0 km/s/Mpc\n",
      "The value of H0 (ER) is 71.99999999999999 km/s/Mpc\n",
      "value of phi0 : 1\n",
      "value of phip0 : 1.7654581780347585e-05\n",
      "value of H0ER : 71.99999999999999 km/s/Mpc\n",
      "value of rhom0ER : 1.6446024687294788e-47\n",
      "value of rhora0ER : 2.275234258266665e-51\n",
      "value of wm : 0\n",
      "value of wra : 0.3333333333333333\n",
      "value of Dn : [0.0, -8.885756048873665]\n",
      "value of Da : [1.00000000e+00 1.38345546e-04]\n",
      "value of kappabar : 1.690897932053417e-37\n",
      "value of lambda : 4.290798790920805e-84\n",
      "value of K : 0.0\n"
     ]
    }
   ],
   "source": [
    "(phi0,phip0,H0ER,H0RG,rhoc0ER,rhoc0RG,rhom0RG,rhora0RG,rhola0RG,rhom0ER,rhora0ER,wm,wra,wla,Dn,kappabar,Lambda,lambd,K)=initcondcomp(PHI0,PHIP0,H0,Lambda,srhom,srhora,slambda,rhoc0,aeg,k)"
   ]
  },
  {
   "cell_type": "markdown",
   "id": "d51b5c21",
   "metadata": {},
   "source": [
    "        Solve in GR and in ER case"
   ]
  },
  {
   "cell_type": "code",
   "execution_count": 357,
   "id": "041f0e63",
   "metadata": {},
   "outputs": [
    {
     "name": "stdout",
     "output_type": "stream",
     "text": [
      "True\n"
     ]
    },
    {
     "name": "stderr",
     "output_type": "stream",
     "text": [
      "/var/folders/qb/bbf440cx1h1fk83td8h68g0m0000gn/T/ipykernel_11584/725880599.py:7: RuntimeWarning: overflow encountered in exp\n",
      "  rhom=rhom0*np.exp(xm)          #Dust density\n",
      "/var/folders/qb/bbf440cx1h1fk83td8h68g0m0000gn/T/ipykernel_11584/725880599.py:8: RuntimeWarning: overflow encountered in exp\n",
      "  rhora=rhora0*np.sqrt(phi0/phi)*np.exp(xra)   #radiation density\n",
      "/var/folders/qb/bbf440cx1h1fk83td8h68g0m0000gn/T/ipykernel_11584/725880599.py:10: RuntimeWarning: overflow encountered in exp\n",
      "  B=phip0*H0*np.exp(-3*n)/phi\n",
      "/var/folders/qb/bbf440cx1h1fk83td8h68g0m0000gn/T/ipykernel_11584/725880599.py:13: RuntimeWarning: invalid value encountered in scalar add\n",
      "  H=(-B+np.sqrt(delta))/2\n",
      "/var/folders/qb/bbf440cx1h1fk83td8h68g0m0000gn/T/ipykernel_11584/725880599.py:15: RuntimeWarning: overflow encountered in exp\n",
      "  phip=phip0*(H0/H)*np.exp(-3*n)\n",
      "/var/folders/qb/bbf440cx1h1fk83td8h68g0m0000gn/T/ipykernel_11584/725880599.py:8: RuntimeWarning: invalid value encountered in sqrt\n",
      "  rhora=rhora0*np.sqrt(phi0/phi)*np.exp(xra)   #radiation density\n",
      "/var/folders/qb/bbf440cx1h1fk83td8h68g0m0000gn/T/ipykernel_11584/725880599.py:11: RuntimeWarning: invalid value encountered in sqrt\n",
      "  C=kappabar*(rhom+rhora)/(3*np.sqrt(phi))+V(phi,lambd)/(6*phi)\n",
      "/var/folders/qb/bbf440cx1h1fk83td8h68g0m0000gn/T/ipykernel_11584/725880599.py:15: RuntimeWarning: divide by zero encountered in scalar divide\n",
      "  phip=phip0*(H0/H)*np.exp(-3*n)\n"
     ]
    },
    {
     "name": "stdout",
     "output_type": "stream",
     "text": [
      "  message: Required step size is less than spacing between numbers.\n",
      "  success: False\n",
      "   status: -1\n",
      "        t: [ 0.000e+00 -8.886e-07 ... -7.049e+00 -7.049e+00]\n",
      "        y: [[ 1.000e+00  1.000e+00 ...  6.808e-06  1.241e-07]]\n",
      "      sol: None\n",
      " t_events: None\n",
      " y_events: None\n",
      "     nfev: 950\n",
      "     njev: 25\n",
      "      nlu: 234\n"
     ]
    }
   ],
   "source": [
    "solutionRG=solveRGNC(H0RG,rhom0RG,rhola0RG,rhora0RG,rhoc0RG,kappa,wm,wla,wra,Dn)\n",
    "solutionER=solveBDN(phi0,H0ER,rhom0ER,rhora0ER,phip0,kappabar,wm,wra,Dn,K,lambd)"
   ]
  },
  {
   "cell_type": "code",
   "execution_count": null,
   "id": "0b554eb8",
   "metadata": {},
   "outputs": [],
   "source": []
  },
  {
   "cell_type": "markdown",
   "id": "da285d88",
   "metadata": {},
   "source": [
    "        What do you want to plot"
   ]
  },
  {
   "cell_type": "code",
   "execution_count": 358,
   "id": "7800bcdf",
   "metadata": {},
   "outputs": [],
   "source": [
    "#plot the variable X=\"H,varG,phi,omega\" or X=\"A\" for H,varG,phi\n",
    "X=\"H\"\n",
    "C=False   #If you want the condition with the density"
   ]
  },
  {
   "cell_type": "markdown",
   "id": "9e317265",
   "metadata": {},
   "source": [
    "    plot and values"
   ]
  },
  {
   "cell_type": "code",
   "execution_count": 359,
   "id": "c921f6a8",
   "metadata": {},
   "outputs": [
    {
     "name": "stdout",
     "output_type": "stream",
     "text": [
      "The value of H0 (ob) is 72.0 km/s/Mpc\n",
      "The value of H0 (RG) is 72.0 km/s/Mpc\n",
      "The value of H0 (ER) is 71.99999999999999 km/s/Mpc\n",
      "Position of the CMB, redshift: 1090 and H : 595826.2036298389 km/s/Mpc\n"
     ]
    },
    {
     "data": {
      "image/png": "[encoded data removed]",
      "text/plain": [
       "<Figure size 640x480 with 1 Axes>"
      ]
     },
     "metadata": {},
     "output_type": "display_data"
    },
    {
     "name": "stdout",
     "output_type": "stream",
     "text": [
      "At the end of the simulation, at a=0.0008679297745395442\n",
      "value of phi : 1.2413973905522708e-07\n",
      "value of phip : 7.588924293742309\n",
      "value of H (ER): 256186.327771465 km/s/Mpc\n",
      "value of H (RG): 39238878.88401342 km/s/Mpc\n",
      "value of max(omegamER) : 0.9975114248002301\n",
      "value of max(omegaraER) : 0.9977944560096758\n",
      "value of max(omegapotER) : 0.6067273018233474\n",
      "value of max(omegamRG) : 0.9975114245733885\n",
      "value of max(omegaraRG) : 0.5000000115586247\n",
      "value of max(omegalaRG) : 0.6067273018233473\n",
      "value of rhomER : 2.5154006931044893e-38\n",
      "value of rhoraER : 1.137974041483038e-35\n",
      "value of rhopot : 1.10990804366436e-57\n",
      "value of rhomRG : 6.210945717728434e-36\n",
      "value of rhoraRG : 6.21094600491378e-36\n",
      "value of rholaRG : 2.5375411245487593e-47\n"
     ]
    }
   ],
   "source": [
    "compaNmin(solutionRG,solutionER,phi0,phip0,rhom0RG,rhom0ER,rhora0RG,rhora0ER,wm,wra,wla,Lambda,lambd,X,C)"
   ]
  },
  {
   "cell_type": "code",
   "execution_count": null,
   "id": "6a314158",
   "metadata": {},
   "outputs": [],
   "source": []
  },
  {
   "cell_type": "markdown",
   "id": "24f94b21",
   "metadata": {},
   "source": [
    "# Find a maximum value for the Hubble tension"
   ]
  },
  {
   "cell_type": "markdown",
   "id": "c9923baa",
   "metadata": {},
   "source": [
    "Here we choose a value of $H0_{supernovae}= 74.0$ $km/s/Mpc$, and $H0_{cosmo}= 66.9$ $km/s/Mpc$"
   ]
  },
  {
   "cell_type": "code",
   "execution_count": 360,
   "id": "4c913ce2",
   "metadata": {},
   "outputs": [],
   "source": [
    "def HCMBmaxflat(z):    \n",
    "    H0cosmo=66.9     #67.4 pm 0.5    =[66.9,67.9] \n",
    "    \n",
    "    Lambda=1.1056*10**(-52)*(conversionm**2)\n",
    "\n",
    "    omegala0RG=Lambda/(3*H0cosmo**2)\n",
    "    omegara0RG=5.44*10**(-5)\n",
    "    omegam0RG=(omegala0RG-omegala0RG-omegara0RG)\n",
    "    return(H0cosmo*np.sqrt(((1+z)**4)*omegara0RG+((1+z)**3)*omegam0RG+omegala0RG))"
   ]
  },
  {
   "cell_type": "code",
   "execution_count": 368,
   "id": "77b67fb3",
   "metadata": {},
   "outputs": [],
   "source": [
    "def compaN(solutionRG,solutionER,phi0,phip0,rhom0RG,rhom0ER,rhora0RG,rhora0ER,wm,wra,wla,Lambda,lambd,X,Condition):\n",
    "    a0=1\n",
    "    \n",
    "    YRG=solutionRG.y   #[HRG/H0RG,rhom/rho0,rhola/rho0,rhora/rho0]       \n",
    "    NRG=solutionRG.t   #The number of e-folds in RG simulation\n",
    "    ARG=np.exp(NRG)    #The scale factor in RG simulation\n",
    "    \n",
    "    YER=solutionER.y   #[phi]      \n",
    "    NER=solutionER.t   #The number of e-folds in ER simulation \n",
    "    AER=np.exp(NER)    #The scale factor in ER simulation\n",
    "    \n",
    "                            #For GR\n",
    "    \n",
    "    H0RG=np.sqrt(kappa**2*(rhom0RG+rhora0RG)/3+Lambda/3)          #Hubble paramater today in GR\n",
    "\n",
    "    HRG=YRG[0]*H0RG              #Hubble parameter in GR\n",
    "    rhomRG=YRG[1]*rhoc0RG        #Dust density in GR\n",
    "    rholaRG=YRG[2]*rhoc0RG       #lambda density in GR\n",
    "    rhoraRG=YRG[3]*rhoc0RG       #radiation density in GR\n",
    "    \n",
    "    HpRG=-(kappa**2)*(rhomRG*(1+wm)+rholaRG*(1+wla)+rhoraRG*(1+wra))/(2*HRG)   #Derivative of Hubble parameter in GR\n",
    "\n",
    "                            #For ER\n",
    "        \n",
    "    phi=YER[0]                               #Scalar field\n",
    "    \n",
    "    rhomER=rhom0ER*np.exp(-3*(1+wm)*NER)     #Dust density in ER\n",
    "    rhoraER=rhora0ER*np.sqrt(phi0/phi)*np.exp(-3*(1+wra)*NER)   #radiation density in ER\n",
    "    rhopot=lambd*phi**(3/2)/kappabar      #Potential density\n",
    "\n",
    "    H0ER=np.sqrt((kappabar*(rhom0ER+rhora0ER)/(3*np.sqrt(phi0))+V(phi0,lambd)/(6*phi0))/(1+phip0/phi0))  #Hubble parameter in ER today\n",
    "        \n",
    "    B=phip0*H0ER*np.exp(-3*NER)/phi\n",
    "    C=kappabar*(rhomER+rhoraER)/(3*np.sqrt(phi))+V(phi,lambd)/(6*phi)\n",
    "    delta=B*B+4*C\n",
    "    HER=(-B+np.sqrt(delta))/2            #Hubble parameter in ER\n",
    "\n",
    "    phip=phip0*(H0ER/HER)*np.exp(-3*NER)    #Derivative of the scalar field in respect of number of e-folds\n",
    "    \n",
    "    pER=wm*rhomER+wra*rhoraER              # Totale pressure in ER\n",
    "    HpER=-kappabar*pER/(2*np.sqrt(phi))-3*HER/2+HER*phip/(2*phi)+V(phi,lambd)/(4*HER*phi)   #Derivative of the Hubble parameter in ER\n",
    "        \n",
    "    phipp=-3*phip-HpER*phip/HER    #The second derivative of the scalar field\n",
    "            \n",
    "    rhocER=3*HER**2*np.sqrt(phi)*(1+phip/phi)/kappabar    #Critical density in ER\n",
    "    rhocRG=3*HRG**2/(kappa**2)                            #Critical density in GR\n",
    "    \n",
    "    omegamER=rhomER/rhocER                            #omega dust in ER\n",
    "    omegaraER=rhoraER/rhocER                          #omega radiation in ER\n",
    "    omegapotER=rhopot/rhocER                          #omega potential in ER\n",
    "    omegamRG=rhomRG/rhocRG                            #omega dust in GR\n",
    "    omegaraRG=rhoraRG/rhocRG                          #omega radiation in GR\n",
    "    omegalaRG=rholaRG/rhocRG                          #omega Lambda in GR\n",
    "    \n",
    "    print(\"The value of H0 (ob) is \"+str(H0/conversions/conversionH0tosm1)+\" km/s/Mpc\")\n",
    "    print(\"The value of H0 (RG) is \"+str(H0RG/conversions/conversionH0tosm1)+\" km/s/Mpc\")\n",
    "    print(\"The value of H0 (ER) is \"+str(H0ER/conversions/conversionH0tosm1)+\" km/s/Mpc\")\n",
    "    \n",
    "    varG=-1/2*phip/phi     #Relative variation of Geff only in ER\n",
    "    \n",
    "                    #Limit condition\n",
    "    \n",
    "    limat=True\n",
    "    lim=0\n",
    "    ilim=0\n",
    "    \n",
    "    if Condition==True:\n",
    "        for i in range(len(rhomER)):\n",
    "            if rhoraER[i]>=0.1*rhomER[i] and limat==True:    #We are looking for the first time that rhoradiation>0.1rhodust, and get the index\n",
    "                lim=NER[i]\n",
    "                ilim=i\n",
    "                limat=False\n",
    "                \n",
    "    \n",
    "    Al=False\n",
    "    if X==\"A\":\n",
    "        Al=True\n",
    "        \n",
    "    if X==\"H\" or Al:\n",
    "        plt.plot(AER,HER/conversions/conversionH0tosm1,alpha=0.7,color=\"b\",label=\"ER case\")  \n",
    "        #plt.plot(ARG,HRG/conversions/conversionH0tosm1,alpha=0.7,color=\"r\",label=\"GR case\")\n",
    "       # if phip0!=0:   #If the derivative use of the Klein-Gordon solution\n",
    "        #    plt.plot(AER,atoH(AER,H0ER/conversions/conversionH0tosm1,phip0,phip),\"--\",alpha=0.5,color=\"k\",label=\"Formula with phip\")\n",
    "        #If there is only one component\n",
    "        if rhom0ER+rhora0ER==0 and lambd!=0 :   #Only potential\n",
    "            plt.plot(AER,atoHonec(H0ER/conversions/conversionH0tosm1,phi0,phip0,AER,AER[0],-1),alpha=0.5,color=\"c\",label=r\"$\\rho=0$\")\n",
    "        if rhom0ER+lambd==0 and rhora0ER!=0 :   #Only radiation\n",
    "            plt.plot(AER,atoHonec(H0ER/conversions/conversionH0tosm1,phi0,phip0,AER,AER[0],wra),alpha=0.5,color=\"c\",label=r\"$\\rho_{ra} \\ne 0$\")\n",
    "        if lambd+rhora0ER==0 and rhom0ER!=0 :   #Only dust\n",
    "            plt.plot(AER,atoHonec(H0ER/conversions/conversionH0tosm1,phi0,phip0,AER,AER[0],wm),alpha=0.5,color=\"c\",label=r\"$\\rho_m \\ne 0$\")\n",
    "        if limat==False:\n",
    "            plt.axvline(x=np.exp(lim), color='c',label=\"Limit condition\")\n",
    "            \n",
    "        z=1090   #Redshift at the CMB\n",
    "        plt.axvline(x=1/(1+z),color=\"k\",label=\"CMB\")   #Scale factor at the CMB\n",
    "        y=HCMBmaxflat(z)\n",
    "        plt.axhline(y,color=\"k\")  #Value of H at the CMB\n",
    "        print(\"Position of the CMB, redshift: \"+str(z)+\" and H : \"+str(y)+ \" km/s/Mpc\")\n",
    "        \n",
    "        #plt.xlim(1/(2+z),1/(z))\n",
    "        #plt.ylim(y-10**5,y+10**5)\n",
    "        \n",
    "        plt.ylabel(\"H (km/s/Mpc)\")\n",
    "        plt.xlabel(\"a\")\n",
    "        plt.title(\"Evolution of H\")\n",
    "        plt.loglog()\n",
    "        plt.legend()\n",
    "        plt.show()\n",
    "    \n",
    "    if X==\"H/H0\":\n",
    "        plt.plot(AER,HER/H0ER,alpha=0.5,color=\"b\",label=\"ER case\")\n",
    "        plt.plot(ARG,YRG[0],alpha=0.5,color=\"r\",label=\"GR case\")\n",
    "        if phip0!=0:   #If the derivative use of the Klein-Gordon solution\n",
    "            plt.plot(AER,atoH(AER,1,phip0,phip),\"--\",alpha=0.5,color=\"k\",label=\"Formula with phip\")\n",
    "        #If there is only one components\n",
    "        if rhom0ER+rhora0ER==0 and lambd!=0 :   #Only potential\n",
    "            plt.plot(AER,atoHonec(1,phi0,phip0,AER,AER[0],-1),alpha=0.5,color=\"c\",label=r\"$\\rho=0$\")\n",
    "        if rhom0ER+lambd==0 and rhora0ER!=0 :   #Only radiation\n",
    "            plt.plot(AER,atoHonec(1,phi0,phip0,AER,AER[0],wra),alpha=0.5,color=\"c\",label=r\"$\\rho_{ra} \\ne 0$\")\n",
    "        if lambd+rhora0ER==0 and rhom0ER!=0 :   #Only dust\n",
    "            plt.plot(AER,atoHonec(1,phi0,phip0,AER,AER[0],wm),alpha=0.5,color=\"c\",label=r\"$\\rho_m \\ne 0$\")\n",
    "        plt.loglog()\n",
    "        plt.ylabel(r\"$\\frac{H}{H_0}$\")\n",
    "        plt.xlabel(\"a\")\n",
    "        plt.title(\"Evolution of \"+r\"$\\frac{H}{H_0}$\")\n",
    "        plt.legend()\n",
    "        plt.show()\n",
    "    \n",
    "    if X==\"Hp\" :\n",
    "        plt.plot(AER,abs(HpER),color=\"b\",alpha=0.5,label=\"ER case\")\n",
    "        plt.plot(ARG,abs(HpRG),color=\"r\",alpha=0.5,label=\"RG case\")\n",
    "        plt.loglog()\n",
    "        if HpER[0]<=0:\n",
    "            lab=r\"$-H_{,N}$\"\n",
    "        else:\n",
    "            lab=r\"$H_{,N}$\"\n",
    "        plt.ylabel(lab+\" (km/s/Mpc)\")\n",
    "        plt.xlabel(\"a\")\n",
    "        plt.title(\"Evolution of \"+r\"$H_{,N}$\")\n",
    "        plt.legend()\n",
    "        plt.show()\n",
    "        \n",
    "    if X==\"varG\" or Al:\n",
    "        plt.plot(AER,abs(varG),color=\"b\",alpha=0.5,label=\"Solution\")\n",
    "        if limat==False:\n",
    "            plt.axvline(x=np.exp(lim), color='k',label=\"Limit condition\")\n",
    "        plt.loglog()\n",
    "        if varG[0]<=0:\n",
    "            ab=\"-\"\n",
    "        else:\n",
    "            ab=\"\"\n",
    "        lab=r\"$\\frac{G_{eff,N}}{G_{eff}}$\"\n",
    "        plt.title(\"Variation of \"+ab+lab)\n",
    "        plt.ylabel(ab+lab)\n",
    "        plt.xlabel(\"a\")\n",
    "        plt.legend()\n",
    "        plt.show()\n",
    "\n",
    "    if X==\"rhom\" and rhom0ER!=0:\n",
    "        plt.plot(AER,rhomER,alpha=0.5,color=\"b\",label=\"ER case\")\n",
    "        plt.plot(AER,rhoanda(rhom0ER,AER,wm,a0),alpha=0.5,color=\"c\",label=\"Analytical solution\")\n",
    "        plt.plot(ARG,rhomRG,alpha=0.5,color=\"r\",label=\"RG case\")\n",
    "        plt.plot(ARG,rhoanda(rhom0RG,ARG,wm,a0),alpha=0.5,color=\"c\",label=\"Analytical solution\")\n",
    "        plt.loglog()\n",
    "        plt.ylabel(r\"$\\rho_m$\")\n",
    "        plt.xlabel(\"a\")\n",
    "        plt.title(\"Evolution of \"+r\"$\\rho_{m}$\")\n",
    "        plt.legend()\n",
    "        plt.show()\n",
    "\n",
    "    if X==\"rhora\" and rhora0RG!=0:\n",
    "        plt.plot(AER,rhoraER,alpha=0.5,color=\"b\",label=\"ER case\")\n",
    "        plt.plot(AER,rhoanda(rhora0ER,AER,wra,a0),alpha=0.5,color=\"c\",label=\"Analytical solution\")\n",
    "        plt.plot(ARG,rhoraRG,alpha=0.5,color=\"r\",label=\"RG case\")\n",
    "        plt.plot(ARG,rhoanda(rhora0RG,ARG,wra,a0),alpha=0.5,color=\"c\",label=\"Analytical solution\")\n",
    "        plt.loglog()\n",
    "        plt.ylabel(r\"$\\rho_{radiation}$\")\n",
    "        plt.xlabel(\"a\")\n",
    "        plt.title(\"Evolution of \"+r\"$\\rho_{radiation}$\")\n",
    "        plt.legend()\n",
    "        plt.show()\n",
    "        \n",
    "    if X==\"rhola\" and rhola0RG!=0:\n",
    "        plt.plot(ARG,rholaRG,alpha=0.5,color=\"r\",label=\"RG case\")\n",
    "        plt.plot(AER,rhopot,alpha=0.5,color=\"b\",label=\"ER case\")\n",
    "        plt.plot(ARG,rhoanda(rhola0RG,ARG,wla,a0),alpha=0.5,color=\"c\",label=\"Analytical solution\")\n",
    "        plt.loglog()\n",
    "        plt.ylabel(r\"$\\rho_{\\Lambda}$\")\n",
    "        plt.xlabel(\"a\")\n",
    "        plt.title(\"Evolution of \"+r\"$\\rho_{\\Lambda}$\")\n",
    "        plt.legend()\n",
    "        plt.show()\n",
    "          \n",
    "    if X==\"phi\" or Al:\n",
    "        plt.plot(AER,phi,alpha=0.5,color=\"b\",label=\"Solution\")\n",
    "        if rhom0ER+rhora0ER==0 and lambd!=0 :\n",
    "            plt.plot(AER,atophionec(phi0,phip0,AER,AER[0],-1),alpha=0.5,color=\"c\",label=r\"$\\rho=0$\")\n",
    "        if rhom0ER+lambd==0 and rhora0ER!=0 :\n",
    "            plt.plot(AER,atophionec(phi0,phip0,AER,AER[0],wra),alpha=0.5,color=\"c\",label=r\"$\\rho_{ra} \\ne 0$\")\n",
    "        if lambd+rhora0ER==0 and rhom0ER!=0 :\n",
    "            plt.plot(AER,atophionec(phi0,phip0,AER,AER[0],wm),alpha=0.5,color=\"c\",label=r\"$\\rho_m \\ne 0$\")\n",
    "        plt.loglog()\n",
    "        plt.ylabel(r\"$\\phi$\")\n",
    "        plt.xlabel(\"a\")\n",
    "        plt.title(\"Evolution of \"+r\"$\\phi$\")\n",
    "        plt.legend()\n",
    "        plt.show()\n",
    "       \n",
    "    if X==\"phip/phi\" :\n",
    "        plt.plot(AER,phip/phi,color=\"b\",alpha=0.5,label=\"Solution\")\n",
    "        if phip0>0:\n",
    "            plt.loglog()\n",
    "        plt.xscale(\"log\")\n",
    "        plt.ylabel(r\"$\\frac{\\phi,_N}{\\phi}$\")\n",
    "        plt.xlabel(\"a\")\n",
    "        plt.title(\"Evolution of \"+r\"$\\phi_{,N}$\")\n",
    "        plt.legend()\n",
    "        plt.show()\n",
    "        \n",
    "    if X==\"phip\" :\n",
    "        plt.plot(AER,phip,color=\"b\",alpha=0.5,label=\"Solution\")\n",
    "        plt.plot(AER,atophip(AER,phip0,a0,H0ER,HER),alpha=0.5,color=\"r\",label=\"Analytical solution\")\n",
    "        if phip0>0:\n",
    "            plt.loglog()\n",
    "        plt.xscale(\"log\")\n",
    "        plt.ylabel(r\"$\\phi,_N$\")\n",
    "        plt.xlabel(\"a\")\n",
    "        plt.title(\"Evolution of \"+r\"$\\phi_{,N}$\")\n",
    "        plt.legend()\n",
    "        plt.show()\n",
    "\n",
    "    if phip0!=0 and X=='phipp':\n",
    "        if phip0!=0:\n",
    "            plt.plot(AER,(phipp/phip),alpha=0.5,color=\"b\",label=\"Solution\")\n",
    "            plt.plot(AER,-(3/2+phip/(2*phi)),alpha=0.5,color=\"r\")\n",
    "            plt.title(\"Evolution of \"+r\"$\\frac{\\phi_{,NN}}{\\phi_{,N}}$\")\n",
    "            plt.xscale(\"log\")\n",
    "            plt.ylabel(r\"$\\frac{\\phi_{,NN}}{\\phi_{,N}}$\")\n",
    "            plt.show()\n",
    "        else:\n",
    "            print(\"phip0=0\")\n",
    "    \n",
    "    if X==\"omega\":\n",
    "        plt.plot(AER,omegamER,color=\"k\",label=r\"$\\Omega_{ERm}$\")\n",
    "        plt.plot(AER,omegaraER,color=\"r\",label=r\"$\\Omega_{ERra}$\")\n",
    "        plt.plot(AER,omegapotER,color=\"c\",label=r\"$\\Omega_{ER\\lambda}$\")\n",
    "        plt.plot(ARG,omegamRG,\":\",color=\"y\",label=r\"$\\Omega_{RGm}$\")\n",
    "        plt.plot(ARG,omegaraRG,\":\",color=\"g\",label=r\"$\\Omega_{RGra}$\")\n",
    "        plt.plot(ARG,omegalaRG,\":\",color=\"m\",label=r\"$\\Omega_{RG\\Lambda}$\")\n",
    "        if limat==False:\n",
    "            plt.axvline(x=np.exp(lim), color='k',label=\"Limit condition\")\n",
    "        plt.xscale(\"log\")\n",
    "        plt.ylabel(r\"$\\Omega$\")\n",
    "        plt.xlabel(\"a\")\n",
    "        plt.title(\"Evolution of \"+r\"$\\Omega$\")\n",
    "        plt.legend()\n",
    "        plt.show()\n",
    "        \n",
    "    if limat==False:\n",
    "        print(\"At the condtion, at a=\"+str(np.exp(NER[ilim])))\n",
    "        print(\"value of phi : \"+str(phi[ilim]))\n",
    "        print(\"value of phip : \"+str(phip[ilim]))\n",
    "        print(\"value of H (ER): \"+str(HER[ilim]/conversions/conversionH0tosm1)+\" km/s/Mpc\")\n",
    "        print(\"value of H (RG): \"+str(HRG[ilim]/conversions/conversionH0tosm1)+\" km/s/Mpc\")\n",
    "\n",
    "        print(\"value of max(omegamER) : \"+str(max(omegamER)))\n",
    "        print(\"value of max(omegaraER) : \"+str(max(omegaraER)))\n",
    "        print(\"value of max(omegapotER) : \"+str(max(omegapotER)))\n",
    "\n",
    "        print(\"value of max(omegamRG) : \"+str(max(omegamRG)))\n",
    "        print(\"value of max(omegaraRG) : \"+str(max(omegaraRG)))\n",
    "        print(\"value of max(omegalaRG) : \"+str(max(omegalaRG)))\n",
    "\n",
    "\n",
    "\n",
    "        print(\"value of rhomER : \"+str(rhomER[ilim]))\n",
    "        print(\"value of rhoraER : \"+str(rhoraER[ilim]))\n",
    "        print(\"value of rhopot : \"+str(rhopot[ilim]))\n",
    "        print(\"value of rhomRG : \"+str(rhomRG[ilim]))\n",
    "        print(\"value of rhoraRG : \"+str(rhoraRG[ilim]))\n",
    "        print(\"value of rholaRG : \"+str(rholaRG[ilim]))\n",
    "\n",
    "    else:\n",
    "        print(\"At the end of the simulation, at a=\"+str(np.exp(NER[-1])))\n",
    "        print(\"value of phi : \"+str(phi[-1]))\n",
    "        print(\"value of phip : \"+str(phip[-1]))\n",
    "        print(\"value of H (ER): \"+str(HER[-1]/conversions/conversionH0tosm1)+\" km/s/Mpc\")\n",
    "        print(\"value of H (RG): \"+str(HRG[-1]/conversions/conversionH0tosm1)+\" km/s/Mpc\")\n",
    "\n",
    "        print(\"value of max(omegamER) : \"+str(max(omegamER)))\n",
    "        print(\"value of max(omegaraER) : \"+str(max(omegaraER)))\n",
    "        print(\"value of max(omegapotER) : \"+str(max(omegapotER)))\n",
    "\n",
    "        print(\"value of max(omegamRG) : \"+str(max(omegamRG)))\n",
    "        print(\"value of max(omegaraRG) : \"+str(max(omegaraRG)))\n",
    "        print(\"value of max(omegalaRG) : \"+str(max(omegalaRG)))\n",
    "\n",
    "\n",
    "\n",
    "        print(\"value of rhomER : \"+str(rhomER[-1]))\n",
    "        print(\"value of rhoraER : \"+str(rhoraER[-1]))\n",
    "        print(\"value of rhopot : \"+str(rhopot[-1]))\n",
    "        print(\"value of rhomRG : \"+str(rhomRG[-1]))\n",
    "        print(\"value of rhoraRG : \"+str(rhoraRG[-1]))\n",
    "        print(\"value of rholaRG : \"+str(rholaRG[-1]))"
   ]
  },
  {
   "cell_type": "code",
   "execution_count": 381,
   "id": "7e2c7815",
   "metadata": {},
   "outputs": [],
   "source": [
    "PHI0=1\n",
    "PHIP0=15*10**(-16)\n",
    "\n",
    "slambda=float(1)    #If lambda==0 => slambda=0 otherwise =1\n",
    "srhom=float(1)      #If rhom==0 => srhom=0 otherwise =1\n",
    "srhora=float(1)     #If rhora==0 => srhora=0 otherwise =1\n",
    "\n",
    "aeg=2.17*10**(-2)\n",
    "\n",
    "k=0        #Curvature                    "
   ]
  },
  {
   "cell_type": "code",
   "execution_count": 382,
   "id": "0f17b60d",
   "metadata": {},
   "outputs": [],
   "source": [
    "H0=74.0*conversionH0tosm1*conversions       #73.0 pm 1.0  =[72.0,74.0] \n",
    "rhoc0=3*H0**2/(kappa**2)"
   ]
  },
  {
   "cell_type": "code",
   "execution_count": 383,
   "id": "c66018fe",
   "metadata": {},
   "outputs": [
    {
     "name": "stdout",
     "output_type": "stream",
     "text": [
      "value of Lambda : 4.290723039999999e-84\n",
      "omegatotRG : 1.0\n",
      "value of rhoc0ER : 4.4179215319229875e-47\n",
      "value of rhom0RG : 1.8801400724428922e-47\n",
      "value of rhora0RG : 2.4033493133661054e-51\n",
      "value of rhola0RG : 2.537541124548759e-47\n",
      "omegam0RG : 0.42557117840536296\n",
      "omegara0RG : 5.440000000000001e-05\n",
      "omegala0RG : 0.574374421594637\n",
      "omegatot0RG : 1.0\n",
      "omegatot0RG2 : 1.0\n",
      "1.0\n",
      "omegam0ER : 0.42557117840536296\n",
      "omegara0ER : 5.440000000000001e-05\n",
      "omegala0ER : 0.574374421594637\n",
      "dif omegam0 : 0.0\n",
      "omegatot0ER : 1.0\n",
      "omegatot0ER2 : 1.0\n",
      "omegatot0ER2==omegatot0RG2 : True\n",
      "The value of H0 (ob) is 74.0 km/s/Mpc\n",
      "The value of H0 (RG) is 74.0 km/s/Mpc\n",
      "The value of H0 (ER) is 74.0 km/s/Mpc\n",
      "value of phi0 : 1\n",
      "value of phip0 : 1.982011260163762e-05\n",
      "value of H0ER : 74.0 km/s/Mpc\n",
      "value of rhom0ER : 1.880177337030835e-47\n",
      "value of rhora0ER : 2.4033969480201174e-51\n",
      "value of wm : 0\n",
      "value of wra : 0.3333333333333333\n",
      "value of Dn : [0.0, -8.964823340942367]\n",
      "value of Da : [1.00000000e+00 1.27828205e-04]\n",
      "value of kappabar : 1.690897932053417e-37\n",
      "value of lambda : 4.290808082613794e-84\n",
      "value of K : 0.0\n"
     ]
    }
   ],
   "source": [
    "(phi0,phip0,H0ER,H0RG,rhoc0ER,rhoc0RG,rhom0RG,rhora0RG,rhola0RG,rhom0ER,rhora0ER,wm,wra,wla,Dn,kappabar,Lambda,lambd,K)=initcondcomp(PHI0,PHIP0,H0,Lambda,srhom,srhora,slambda,rhoc0,aeg,k)"
   ]
  },
  {
   "cell_type": "code",
   "execution_count": 384,
   "id": "9e9d6a86",
   "metadata": {},
   "outputs": [
    {
     "name": "stdout",
     "output_type": "stream",
     "text": [
      "True\n"
     ]
    },
    {
     "name": "stderr",
     "output_type": "stream",
     "text": [
      "/var/folders/qb/bbf440cx1h1fk83td8h68g0m0000gn/T/ipykernel_11584/725880599.py:7: RuntimeWarning: overflow encountered in exp\n",
      "  rhom=rhom0*np.exp(xm)          #Dust density\n",
      "/var/folders/qb/bbf440cx1h1fk83td8h68g0m0000gn/T/ipykernel_11584/725880599.py:8: RuntimeWarning: overflow encountered in exp\n",
      "  rhora=rhora0*np.sqrt(phi0/phi)*np.exp(xra)   #radiation density\n",
      "/var/folders/qb/bbf440cx1h1fk83td8h68g0m0000gn/T/ipykernel_11584/725880599.py:10: RuntimeWarning: overflow encountered in exp\n",
      "  B=phip0*H0*np.exp(-3*n)/phi\n",
      "/var/folders/qb/bbf440cx1h1fk83td8h68g0m0000gn/T/ipykernel_11584/725880599.py:13: RuntimeWarning: invalid value encountered in scalar add\n",
      "  H=(-B+np.sqrt(delta))/2\n",
      "/var/folders/qb/bbf440cx1h1fk83td8h68g0m0000gn/T/ipykernel_11584/725880599.py:15: RuntimeWarning: overflow encountered in exp\n",
      "  phip=phip0*(H0/H)*np.exp(-3*n)\n"
     ]
    },
    {
     "name": "stdout",
     "output_type": "stream",
     "text": [
      "  message: Required step size is less than spacing between numbers.\n",
      "  success: False\n",
      "   status: -1\n",
      "        t: [ 0.000e+00 -8.965e-07 ... -6.991e+00 -6.991e+00]\n",
      "        y: [[ 1.000e+00  1.000e+00 ...  1.044e-05  2.932e-06]]\n",
      "      sol: None\n",
      " t_events: None\n",
      " y_events: None\n",
      "     nfev: 935\n",
      "     njev: 24\n",
      "      nlu: 222\n"
     ]
    },
    {
     "name": "stderr",
     "output_type": "stream",
     "text": [
      "/var/folders/qb/bbf440cx1h1fk83td8h68g0m0000gn/T/ipykernel_11584/725880599.py:8: RuntimeWarning: invalid value encountered in sqrt\n",
      "  rhora=rhora0*np.sqrt(phi0/phi)*np.exp(xra)   #radiation density\n",
      "/var/folders/qb/bbf440cx1h1fk83td8h68g0m0000gn/T/ipykernel_11584/725880599.py:11: RuntimeWarning: invalid value encountered in sqrt\n",
      "  C=kappabar*(rhom+rhora)/(3*np.sqrt(phi))+V(phi,lambd)/(6*phi)\n"
     ]
    }
   ],
   "source": [
    "solutionRG=solveRGNC(H0RG,rhom0RG,rhola0RG,rhora0RG,rhoc0RG,kappa,wm,wla,wra,Dn)\n",
    "solutionER=solveBDN(phi0,H0ER,rhom0ER,rhora0ER,phip0,kappabar,wm,wra,Dn,K,lambd)"
   ]
  },
  {
   "cell_type": "code",
   "execution_count": 385,
   "id": "77d832d3",
   "metadata": {},
   "outputs": [],
   "source": [
    "#plot the variable X=\"H,varG,phi,omega\" or X=\"A\" for H,varG,phi\n",
    "X=\"H\"\n",
    "C=False   #If you want the condition with the density"
   ]
  },
  {
   "cell_type": "code",
   "execution_count": null,
   "id": "86baa9bd",
   "metadata": {},
   "outputs": [],
   "source": []
  },
  {
   "cell_type": "code",
   "execution_count": 386,
   "id": "64bd10f0",
   "metadata": {},
   "outputs": [
    {
     "name": "stdout",
     "output_type": "stream",
     "text": [
      "The value of H0 (ob) is 74.0 km/s/Mpc\n",
      "The value of H0 (RG) is 74.0 km/s/Mpc\n",
      "The value of H0 (ER) is 74.0 km/s/Mpc\n",
      "Position of the CMB, redshift: 1090 and H : 587051.1490844804 km/s/Mpc\n"
     ]
    },
    {
     "data": {
      "image/png": "[encoded data removed]",
      "text/plain": [
       "<Figure size 640x480 with 1 Axes>"
      ]
     },
     "metadata": {},
     "output_type": "display_data"
    },
    {
     "name": "stdout",
     "output_type": "stream",
     "text": [
      "At the end of the simulation, at a=0.000919930985791732\n",
      "value of phi : 2.931908839008772e-06\n",
      "value of phip : 8.428987967768943\n",
      "value of H (ER): 223509.84702454563 km/s/Mpc\n",
      "value of H (RG): 47238140.14688407 km/s/Mpc\n",
      "value of max(omegamER) : 0.9977313973808482\n",
      "value of max(omegaraER) : 0.9878273582517498\n",
      "value of max(omegapotER) : 0.574374421594637\n",
      "value of max(omegamRG) : 0.997731397285826\n",
      "value of max(omegaraRG) : 0.5000000104248955\n",
      "value of max(omegalaRG) : 0.574374421594637\n",
      "value of rhomER : 2.4150886202597257e-38\n",
      "value of rhoraER : 1.9598791134370926e-36\n",
      "value of rhopot : 1.2739353568724343e-55\n",
      "value of rhomRG : 9.001401518770386e-36\n",
      "value of rhoraRG : 9.00140189415043e-36\n",
      "value of rholaRG : 2.537541124548759e-47\n"
     ]
    }
   ],
   "source": [
    "compaN(solutionRG,solutionER,phi0,phip0,rhom0RG,rhom0ER,rhora0RG,rhora0ER,wm,wra,wla,Lambda,lambd,X,C)"
   ]
  },
  {
   "cell_type": "code",
   "execution_count": null,
   "id": "9fbba68c",
   "metadata": {},
   "outputs": [],
   "source": []
  },
  {
   "cell_type": "markdown",
   "id": "06de9be6",
   "metadata": {},
   "source": [
    "We can see that with the new value of Omega, while determine the value of HCMB, the only way to reach the CMB value is while the scalar field diverges."
   ]
  },
  {
   "cell_type": "code",
   "execution_count": null,
   "id": "426c28de",
   "metadata": {},
   "outputs": [],
   "source": []
  }
 ],
 "metadata": {
  "kernelspec": {
   "display_name": "Python 3 (ipykernel)",
   "language": "python",
   "name": "python3"
  },
  "language_info": {
   "codemirror_mode": {
    "name": "ipython",
    "version": 3
   },
   "file_extension": ".py",
   "mimetype": "text/x-python",
   "name": "python",
   "nbconvert_exporter": "python",
   "pygments_lexer": "ipython3",
   "version": "3.11.7"
  }
 },
 "nbformat": 4,
 "nbformat_minor": 5
}
